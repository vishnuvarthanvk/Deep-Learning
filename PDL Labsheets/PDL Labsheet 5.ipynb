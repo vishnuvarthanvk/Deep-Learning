{
 "cells": [
  {
   "cell_type": "markdown",
   "id": "9a093a17",
   "metadata": {},
   "source": [
    "# 225229131"
   ]
  },
  {
   "cell_type": "markdown",
   "id": "eb06a8e8",
   "metadata": {},
   "source": [
    "# Lab5. Text corpus creation and binary classification using DNN"
   ]
  },
  {
   "cell_type": "code",
   "execution_count": 1,
   "id": "21cf1ea9",
   "metadata": {
    "scrolled": false
   },
   "outputs": [
    {
     "data": {
      "text/html": [
       "<div>\n",
       "<style scoped>\n",
       "    .dataframe tbody tr th:only-of-type {\n",
       "        vertical-align: middle;\n",
       "    }\n",
       "\n",
       "    .dataframe tbody tr th {\n",
       "        vertical-align: top;\n",
       "    }\n",
       "\n",
       "    .dataframe thead th {\n",
       "        text-align: right;\n",
       "    }\n",
       "</style>\n",
       "<table border=\"1\" class=\"dataframe\">\n",
       "  <thead>\n",
       "    <tr style=\"text-align: right;\">\n",
       "      <th></th>\n",
       "      <th>Text</th>\n",
       "      <th>Class</th>\n",
       "    </tr>\n",
       "  </thead>\n",
       "  <tbody>\n",
       "    <tr>\n",
       "      <th>0</th>\n",
       "      <td>You will succeed if you don't quit.</td>\n",
       "      <td>1</td>\n",
       "    </tr>\n",
       "    <tr>\n",
       "      <th>1</th>\n",
       "      <td>All our dreams can come true.</td>\n",
       "      <td>1</td>\n",
       "    </tr>\n",
       "    <tr>\n",
       "      <th>2</th>\n",
       "      <td>Champions keep playing to get it right.</td>\n",
       "      <td>1</td>\n",
       "    </tr>\n",
       "    <tr>\n",
       "      <th>3</th>\n",
       "      <td>Believe in yourself, you're braver than you th...</td>\n",
       "      <td>1</td>\n",
       "    </tr>\n",
       "    <tr>\n",
       "      <th>4</th>\n",
       "      <td>Success comes to those who seek it out.</td>\n",
       "      <td>1</td>\n",
       "    </tr>\n",
       "    <tr>\n",
       "      <th>5</th>\n",
       "      <td>Success is getting what you want.</td>\n",
       "      <td>1</td>\n",
       "    </tr>\n",
       "    <tr>\n",
       "      <th>6</th>\n",
       "      <td>There is no substitute for victory.</td>\n",
       "      <td>1</td>\n",
       "    </tr>\n",
       "    <tr>\n",
       "      <th>7</th>\n",
       "      <td>Setting goals is the key to success.</td>\n",
       "      <td>1</td>\n",
       "    </tr>\n",
       "    <tr>\n",
       "      <th>8</th>\n",
       "      <td>Winning takes talent.</td>\n",
       "      <td>1</td>\n",
       "    </tr>\n",
       "    <tr>\n",
       "      <th>9</th>\n",
       "      <td>Turning dreams into reality starts with settin...</td>\n",
       "      <td>1</td>\n",
       "    </tr>\n",
       "    <tr>\n",
       "      <th>10</th>\n",
       "      <td>Education is a powerful tool to change the wor...</td>\n",
       "      <td>1</td>\n",
       "    </tr>\n",
       "    <tr>\n",
       "      <th>11</th>\n",
       "      <td>Success is learning from failures.</td>\n",
       "      <td>1</td>\n",
       "    </tr>\n",
       "    <tr>\n",
       "      <th>12</th>\n",
       "      <td>Optimism leads to achievement.</td>\n",
       "      <td>1</td>\n",
       "    </tr>\n",
       "    <tr>\n",
       "      <th>13</th>\n",
       "      <td>Talent wins games, intelligence wins champions...</td>\n",
       "      <td>1</td>\n",
       "    </tr>\n",
       "    <tr>\n",
       "      <th>14</th>\n",
       "      <td>Love your family, work hard, live your passion.</td>\n",
       "      <td>1</td>\n",
       "    </tr>\n",
       "    <tr>\n",
       "      <th>15</th>\n",
       "      <td>Do your best, that's all you can do.</td>\n",
       "      <td>1</td>\n",
       "    </tr>\n",
       "    <tr>\n",
       "      <th>16</th>\n",
       "      <td>Dream big, achieve big.</td>\n",
       "      <td>1</td>\n",
       "    </tr>\n",
       "    <tr>\n",
       "      <th>17</th>\n",
       "      <td>Courage is a muscle that grows with use.</td>\n",
       "      <td>1</td>\n",
       "    </tr>\n",
       "    <tr>\n",
       "      <th>18</th>\n",
       "      <td>Be the best version of yourself.</td>\n",
       "      <td>1</td>\n",
       "    </tr>\n",
       "    <tr>\n",
       "      <th>19</th>\n",
       "      <td>Positive thoughts shape your day.</td>\n",
       "      <td>1</td>\n",
       "    </tr>\n",
       "    <tr>\n",
       "      <th>20</th>\n",
       "      <td>Keep trying until you succeed.</td>\n",
       "      <td>0</td>\n",
       "    </tr>\n",
       "    <tr>\n",
       "      <th>21</th>\n",
       "      <td>The reward for good work is more work. Dont w...</td>\n",
       "      <td>0</td>\n",
       "    </tr>\n",
       "    <tr>\n",
       "      <th>22</th>\n",
       "      <td>Hope is the first step to disappointment.</td>\n",
       "      <td>0</td>\n",
       "    </tr>\n",
       "    <tr>\n",
       "      <th>23</th>\n",
       "      <td>Life is painful. Anyone who says otherwise is ...</td>\n",
       "      <td>0</td>\n",
       "    </tr>\n",
       "    <tr>\n",
       "      <th>24</th>\n",
       "      <td>Motivational posters don't make you a winner.</td>\n",
       "      <td>0</td>\n",
       "    </tr>\n",
       "    <tr>\n",
       "      <th>25</th>\n",
       "      <td>Life is logical, thinking it's a gift is depre...</td>\n",
       "      <td>0</td>\n",
       "    </tr>\n",
       "    <tr>\n",
       "      <th>26</th>\n",
       "      <td>Nothing is impossible, yet I do nothing every ...</td>\n",
       "      <td>0</td>\n",
       "    </tr>\n",
       "    <tr>\n",
       "      <th>27</th>\n",
       "      <td>A journey starts with one step. Falling in a d...</td>\n",
       "      <td>0</td>\n",
       "    </tr>\n",
       "    <tr>\n",
       "      <th>28</th>\n",
       "      <td>Try new things to experience life's great disa...</td>\n",
       "      <td>0</td>\n",
       "    </tr>\n",
       "    <tr>\n",
       "      <th>29</th>\n",
       "      <td>Failure is not always a lesson. Sometimes you ...</td>\n",
       "      <td>0</td>\n",
       "    </tr>\n",
       "    <tr>\n",
       "      <th>30</th>\n",
       "      <td>The worst part of success is finding someone w...</td>\n",
       "      <td>0</td>\n",
       "    </tr>\n",
       "    <tr>\n",
       "      <th>31</th>\n",
       "      <td>Your life can't fall apart if you never had it...</td>\n",
       "      <td>0</td>\n",
       "    </tr>\n",
       "    <tr>\n",
       "      <th>32</th>\n",
       "      <td>Doing nothing is hard... you never know when y...</td>\n",
       "      <td>0</td>\n",
       "    </tr>\n",
       "    <tr>\n",
       "      <th>33</th>\n",
       "      <td>Challenging yourself is a good way to face fai...</td>\n",
       "      <td>0</td>\n",
       "    </tr>\n",
       "    <tr>\n",
       "      <th>34</th>\n",
       "      <td>Dead fish go with the flow.</td>\n",
       "      <td>0</td>\n",
       "    </tr>\n",
       "    <tr>\n",
       "      <th>35</th>\n",
       "      <td>Tell yourself you are horrible.</td>\n",
       "      <td>0</td>\n",
       "    </tr>\n",
       "    <tr>\n",
       "      <th>36</th>\n",
       "      <td>Always borrow money from pessimists, they don'...</td>\n",
       "      <td>0</td>\n",
       "    </tr>\n",
       "    <tr>\n",
       "      <th>37</th>\n",
       "      <td>You're going to want to give up.</td>\n",
       "      <td>0</td>\n",
       "    </tr>\n",
       "    <tr>\n",
       "      <th>38</th>\n",
       "      <td>Failures are a sign of your incompetence.</td>\n",
       "      <td>0</td>\n",
       "    </tr>\n",
       "    <tr>\n",
       "      <th>39</th>\n",
       "      <td>Expect nothing, prepare for failure.</td>\n",
       "      <td>0</td>\n",
       "    </tr>\n",
       "  </tbody>\n",
       "</table>\n",
       "</div>"
      ],
      "text/plain": [
       "                                                 Text  Class\n",
       "0                 You will succeed if you don't quit.      1\n",
       "1                       All our dreams can come true.      1\n",
       "2             Champions keep playing to get it right.      1\n",
       "3   Believe in yourself, you're braver than you th...      1\n",
       "4            Success comes to those who seek it out.       1\n",
       "5                   Success is getting what you want.      1\n",
       "6                 There is no substitute for victory.      1\n",
       "7                Setting goals is the key to success.      1\n",
       "8                               Winning takes talent.      1\n",
       "9   Turning dreams into reality starts with settin...      1\n",
       "10  Education is a powerful tool to change the wor...      1\n",
       "11                 Success is learning from failures.      1\n",
       "12                     Optimism leads to achievement.      1\n",
       "13  Talent wins games, intelligence wins champions...      1\n",
       "14   Love your family, work hard, live your passion.       1\n",
       "15               Do your best, that's all you can do.      1\n",
       "16                           Dream big, achieve big.       1\n",
       "17          Courage is a muscle that grows with use.       1\n",
       "18                   Be the best version of yourself.      1\n",
       "19                 Positive thoughts shape your day.       1\n",
       "20                     Keep trying until you succeed.      0\n",
       "21  The reward for good work is more work. Dont w...      0\n",
       "22         Hope is the first step to disappointment.       0\n",
       "23  Life is painful. Anyone who says otherwise is ...      0\n",
       "24     Motivational posters don't make you a winner.       0\n",
       "25  Life is logical, thinking it's a gift is depre...      0\n",
       "26  Nothing is impossible, yet I do nothing every ...      0\n",
       "27  A journey starts with one step. Falling in a d...      0\n",
       "28  Try new things to experience life's great disa...      0\n",
       "29  Failure is not always a lesson. Sometimes you ...      0\n",
       "30  The worst part of success is finding someone w...      0\n",
       "31  Your life can't fall apart if you never had it...      0\n",
       "32  Doing nothing is hard... you never know when y...      0\n",
       "33  Challenging yourself is a good way to face fai...      0\n",
       "34                        Dead fish go with the flow.      0\n",
       "35                    Tell yourself you are horrible.      0\n",
       "36  Always borrow money from pessimists, they don'...      0\n",
       "37                   You're going to want to give up.      0\n",
       "38          Failures are a sign of your incompetence.      0\n",
       "39               Expect nothing, prepare for failure.      0"
      ]
     },
     "execution_count": 1,
     "metadata": {},
     "output_type": "execute_result"
    }
   ],
   "source": [
    "#Importing modules\n",
    "import pandas as pd\n",
    "import numpy as np\n",
    "df=pd.read_csv('textdataset.csv',delimiter=',', encoding='latin-1')\n",
    "df"
   ]
  },
  {
   "cell_type": "code",
   "execution_count": 2,
   "id": "e6c1eb0c",
   "metadata": {},
   "outputs": [
    {
     "data": {
      "text/html": [
       "<div>\n",
       "<style scoped>\n",
       "    .dataframe tbody tr th:only-of-type {\n",
       "        vertical-align: middle;\n",
       "    }\n",
       "\n",
       "    .dataframe tbody tr th {\n",
       "        vertical-align: top;\n",
       "    }\n",
       "\n",
       "    .dataframe thead th {\n",
       "        text-align: right;\n",
       "    }\n",
       "</style>\n",
       "<table border=\"1\" class=\"dataframe\">\n",
       "  <thead>\n",
       "    <tr style=\"text-align: right;\">\n",
       "      <th></th>\n",
       "      <th>Text</th>\n",
       "      <th>Class</th>\n",
       "    </tr>\n",
       "  </thead>\n",
       "  <tbody>\n",
       "    <tr>\n",
       "      <th>0</th>\n",
       "      <td>You will succeed if you don't quit.</td>\n",
       "      <td>1</td>\n",
       "    </tr>\n",
       "    <tr>\n",
       "      <th>1</th>\n",
       "      <td>All our dreams can come true.</td>\n",
       "      <td>1</td>\n",
       "    </tr>\n",
       "    <tr>\n",
       "      <th>2</th>\n",
       "      <td>Champions keep playing to get it right.</td>\n",
       "      <td>1</td>\n",
       "    </tr>\n",
       "    <tr>\n",
       "      <th>3</th>\n",
       "      <td>Believe in yourself, you're braver than you th...</td>\n",
       "      <td>1</td>\n",
       "    </tr>\n",
       "    <tr>\n",
       "      <th>4</th>\n",
       "      <td>Success comes to those who seek it out.</td>\n",
       "      <td>1</td>\n",
       "    </tr>\n",
       "  </tbody>\n",
       "</table>\n",
       "</div>"
      ],
      "text/plain": [
       "                                                Text  Class\n",
       "0                You will succeed if you don't quit.      1\n",
       "1                      All our dreams can come true.      1\n",
       "2            Champions keep playing to get it right.      1\n",
       "3  Believe in yourself, you're braver than you th...      1\n",
       "4           Success comes to those who seek it out.       1"
      ]
     },
     "execution_count": 2,
     "metadata": {},
     "output_type": "execute_result"
    }
   ],
   "source": [
    "#EDA\n",
    "df.head()"
   ]
  },
  {
   "cell_type": "code",
   "execution_count": 3,
   "id": "9855bf3f",
   "metadata": {},
   "outputs": [
    {
     "data": {
      "text/plain": [
       "(40, 2)"
      ]
     },
     "execution_count": 3,
     "metadata": {},
     "output_type": "execute_result"
    }
   ],
   "source": [
    "df.shape"
   ]
  },
  {
   "cell_type": "code",
   "execution_count": 4,
   "id": "bb5e91e8",
   "metadata": {},
   "outputs": [
    {
     "data": {
      "text/plain": [
       "Text     object\n",
       "Class     int64\n",
       "dtype: object"
      ]
     },
     "execution_count": 4,
     "metadata": {},
     "output_type": "execute_result"
    }
   ],
   "source": [
    "df.dtypes"
   ]
  },
  {
   "cell_type": "code",
   "execution_count": 5,
   "id": "07722209",
   "metadata": {},
   "outputs": [
    {
     "data": {
      "text/plain": [
       "Text   Class\n",
       "False  False    40\n",
       "dtype: int64"
      ]
     },
     "execution_count": 5,
     "metadata": {},
     "output_type": "execute_result"
    }
   ],
   "source": [
    "df.isna().value_counts()"
   ]
  },
  {
   "cell_type": "code",
   "execution_count": 6,
   "id": "c0d773c8",
   "metadata": {},
   "outputs": [
    {
     "data": {
      "text/plain": [
       "1    20\n",
       "0    20\n",
       "Name: Class, dtype: int64"
      ]
     },
     "execution_count": 6,
     "metadata": {},
     "output_type": "execute_result"
    }
   ],
   "source": [
    "df['Class'].value_counts()"
   ]
  },
  {
   "cell_type": "markdown",
   "id": "e5280a0b",
   "metadata": {},
   "source": [
    "#### Step 2"
   ]
  },
  {
   "cell_type": "code",
   "execution_count": 7,
   "id": "6f9ff4ac",
   "metadata": {},
   "outputs": [
    {
     "name": "stderr",
     "output_type": "stream",
     "text": [
      "C:\\Users\\Admin\\anaconda3\\lib\\site-packages\\scipy\\__init__.py:146: UserWarning: A NumPy version >=1.16.5 and <1.23.0 is required for this version of SciPy (detected version 1.24.3\n",
      "  warnings.warn(f\"A NumPy version >={np_minversion} and <{np_maxversion}\"\n",
      "[nltk_data] Downloading package punkt to\n",
      "[nltk_data]     C:\\Users\\Admin\\AppData\\Roaming\\nltk_data...\n",
      "[nltk_data]   Package punkt is already up-to-date!\n",
      "[nltk_data] Downloading package stopwords to\n",
      "[nltk_data]     C:\\Users\\Admin\\AppData\\Roaming\\nltk_data...\n",
      "[nltk_data]   Package stopwords is already up-to-date!\n"
     ]
    }
   ],
   "source": [
    "#Preprocessing\n",
    "import nltk\n",
    "nltk.download('punkt')\n",
    "from nltk.corpus import stopwords\n",
    "from nltk.tokenize import word_tokenize\n",
    "import string\n",
    "def preprocess_text(text):\n",
    "    translator=str.maketrans('', '', string.punctuation)\n",
    "    text=text.translate(translator).lower() #Lowercase\n",
    "    words=word_tokenize(text) #Tokenize\n",
    "    return words\n",
    "nltk.download('stopwords')\n",
    "stop_words=set(stopwords.words('english'))\n",
    "df['cleaned_text'] = df['Text'].apply(lambda x: ' '.join([word for word in preprocess_text(x) if word not in stop_words]))\n",
    "X=df['cleaned_text'] \n",
    "y=df['Class']"
   ]
  },
  {
   "cell_type": "code",
   "execution_count": 8,
   "id": "fd8f9481",
   "metadata": {},
   "outputs": [
    {
     "data": {
      "text/plain": [
       "0                                     succeed dont quit\n",
       "1                                      dreams come true\n",
       "2                      champions keep playing get right\n",
       "3                            believe youre braver think\n",
       "4                                    success comes seek\n",
       "5                                  success getting want\n",
       "6                                    substitute victory\n",
       "7                             setting goals key success\n",
       "8                                  winning takes talent\n",
       "9           turning dreams reality starts setting goals\n",
       "10                 education powerful tool change world\n",
       "11                            success learning failures\n",
       "12                           optimism leads achievement\n",
       "13    talent wins games intelligence wins championships\n",
       "14                   love family work hard live passion\n",
       "15                                           best thats\n",
       "16                                dream big achieve big\n",
       "17                             courage muscle grows use\n",
       "18                                         best version\n",
       "19                          positive thoughts shape day\n",
       "20                                  keep trying succeed\n",
       "21                     reward good work work dont work\n",
       "22                       hope first step disappointment\n",
       "23    life painful anyone says otherwise selling som...\n",
       "24                motivational posters dont make winner\n",
       "25                life logical thinking gift depressing\n",
       "26             nothing impossible yet nothing every day\n",
       "27    journey starts one step falling ditch like fai...\n",
       "28    try new things experience lifes great disappoi...\n",
       "29                 failure always lesson sometimes fail\n",
       "30             worst part success finding someone happy\n",
       "31                  life cant fall apart never together\n",
       "32               nothing hard never know youre finished\n",
       "33                    challenging good way face failure\n",
       "34                                    dead fish go flow\n",
       "35                                        tell horrible\n",
       "36      always borrow money pessimists dont expect back\n",
       "37                                youre going want give\n",
       "38                           failures sign incompetence\n",
       "39                       expect nothing prepare failure\n",
       "Name: cleaned_text, dtype: object"
      ]
     },
     "execution_count": 8,
     "metadata": {},
     "output_type": "execute_result"
    }
   ],
   "source": [
    "X"
   ]
  },
  {
   "cell_type": "markdown",
   "id": "11c11464",
   "metadata": {},
   "source": [
    "#### Step 3"
   ]
  },
  {
   "cell_type": "code",
   "execution_count": 9,
   "id": "75421c39",
   "metadata": {},
   "outputs": [],
   "source": [
    "from sklearn.model_selection import train_test_split #train test split\n",
    "from sklearn.feature_extraction.text import TfidfVectorizer\n",
    "X_train,X_test,y_train,y_test=train_test_split(X,y,test_size=0.25,random_state=42,stratify=y)\n",
    "tfidf_vectorizer=TfidfVectorizer() #Vectorization \n",
    "X_train_tfidf=tfidf_vectorizer.fit_transform(X_train)\n",
    "unique_words=tfidf_vectorizer.get_feature_names_out()\n",
    "X_test_tfidf=tfidf_vectorizer.transform(X_test)"
   ]
  },
  {
   "cell_type": "code",
   "execution_count": 10,
   "id": "d076ecc1",
   "metadata": {},
   "outputs": [
    {
     "data": {
      "text/plain": [
       "(30,)"
      ]
     },
     "execution_count": 10,
     "metadata": {},
     "output_type": "execute_result"
    }
   ],
   "source": [
    "X_train.shape"
   ]
  },
  {
   "cell_type": "code",
   "execution_count": 11,
   "id": "e0a5984c",
   "metadata": {},
   "outputs": [
    {
     "data": {
      "text/plain": [
       "(30,)"
      ]
     },
     "execution_count": 11,
     "metadata": {},
     "output_type": "execute_result"
    }
   ],
   "source": [
    "y_train.shape"
   ]
  },
  {
   "cell_type": "code",
   "execution_count": 12,
   "id": "a1864c81",
   "metadata": {},
   "outputs": [
    {
     "data": {
      "text/plain": [
       "(10,)"
      ]
     },
     "execution_count": 12,
     "metadata": {},
     "output_type": "execute_result"
    }
   ],
   "source": [
    "X_test.shape"
   ]
  },
  {
   "cell_type": "code",
   "execution_count": 13,
   "id": "575fcb77",
   "metadata": {},
   "outputs": [
    {
     "data": {
      "text/plain": [
       "(10,)"
      ]
     },
     "execution_count": 13,
     "metadata": {},
     "output_type": "execute_result"
    }
   ],
   "source": [
    "y_test.shape"
   ]
  },
  {
   "cell_type": "markdown",
   "id": "eb084f36",
   "metadata": {},
   "source": [
    "#### Step 4"
   ]
  },
  {
   "cell_type": "code",
   "execution_count": 14,
   "id": "7c3f6ef5",
   "metadata": {},
   "outputs": [
    {
     "name": "stdout",
     "output_type": "stream",
     "text": [
      "Epoch 1/100\n",
      "1/1 [==============================] - 1s 952ms/step - loss: 0.6933 - accuracy: 0.5000\n",
      "Epoch 2/100\n",
      "1/1 [==============================] - 0s 20ms/step - loss: 0.6899 - accuracy: 0.5333\n",
      "Epoch 3/100\n",
      "1/1 [==============================] - 0s 11ms/step - loss: 0.6865 - accuracy: 0.5333\n",
      "Epoch 4/100\n",
      "1/1 [==============================] - 0s 17ms/step - loss: 0.6831 - accuracy: 0.5333\n",
      "Epoch 5/100\n",
      "1/1 [==============================] - 0s 12ms/step - loss: 0.6798 - accuracy: 0.5333\n",
      "Epoch 6/100\n",
      "1/1 [==============================] - 0s 13ms/step - loss: 0.6765 - accuracy: 0.5333\n",
      "Epoch 7/100\n",
      "1/1 [==============================] - 0s 16ms/step - loss: 0.6732 - accuracy: 0.5333\n",
      "Epoch 8/100\n",
      "1/1 [==============================] - 0s 13ms/step - loss: 0.6699 - accuracy: 0.5667\n",
      "Epoch 9/100\n",
      "1/1 [==============================] - 0s 9ms/step - loss: 0.6666 - accuracy: 0.5667\n",
      "Epoch 10/100\n",
      "1/1 [==============================] - 0s 13ms/step - loss: 0.6634 - accuracy: 0.5667\n",
      "Epoch 11/100\n",
      "1/1 [==============================] - 0s 14ms/step - loss: 0.6602 - accuracy: 0.6333\n",
      "Epoch 12/100\n",
      "1/1 [==============================] - 0s 11ms/step - loss: 0.6571 - accuracy: 0.6333\n",
      "Epoch 13/100\n",
      "1/1 [==============================] - 0s 14ms/step - loss: 0.6539 - accuracy: 0.7000\n",
      "Epoch 14/100\n",
      "1/1 [==============================] - 0s 18ms/step - loss: 0.6507 - accuracy: 0.7000\n",
      "Epoch 15/100\n",
      "1/1 [==============================] - 0s 12ms/step - loss: 0.6476 - accuracy: 0.7333\n",
      "Epoch 16/100\n",
      "1/1 [==============================] - 0s 8ms/step - loss: 0.6444 - accuracy: 0.8000\n",
      "Epoch 17/100\n",
      "1/1 [==============================] - 0s 16ms/step - loss: 0.6412 - accuracy: 0.8000\n",
      "Epoch 18/100\n",
      "1/1 [==============================] - 0s 12ms/step - loss: 0.6381 - accuracy: 0.8000\n",
      "Epoch 19/100\n",
      "1/1 [==============================] - 0s 12ms/step - loss: 0.6349 - accuracy: 0.8333\n",
      "Epoch 20/100\n",
      "1/1 [==============================] - 0s 14ms/step - loss: 0.6318 - accuracy: 0.8333\n",
      "Epoch 21/100\n",
      "1/1 [==============================] - 0s 16ms/step - loss: 0.6287 - accuracy: 0.8333\n",
      "Epoch 22/100\n",
      "1/1 [==============================] - 0s 11ms/step - loss: 0.6255 - accuracy: 0.8333\n",
      "Epoch 23/100\n",
      "1/1 [==============================] - 0s 17ms/step - loss: 0.6224 - accuracy: 0.8667\n",
      "Epoch 24/100\n",
      "1/1 [==============================] - 0s 11ms/step - loss: 0.6192 - accuracy: 0.8667\n",
      "Epoch 25/100\n",
      "1/1 [==============================] - 0s 15ms/step - loss: 0.6160 - accuracy: 0.8667\n",
      "Epoch 26/100\n",
      "1/1 [==============================] - 0s 12ms/step - loss: 0.6127 - accuracy: 0.8667\n",
      "Epoch 27/100\n",
      "1/1 [==============================] - 0s 14ms/step - loss: 0.6095 - accuracy: 0.8667\n",
      "Epoch 28/100\n",
      "1/1 [==============================] - 0s 13ms/step - loss: 0.6062 - accuracy: 0.9000\n",
      "Epoch 29/100\n",
      "1/1 [==============================] - 0s 16ms/step - loss: 0.6029 - accuracy: 0.9000\n",
      "Epoch 30/100\n",
      "1/1 [==============================] - 0s 11ms/step - loss: 0.5996 - accuracy: 0.9000\n",
      "Epoch 31/100\n",
      "1/1 [==============================] - 0s 17ms/step - loss: 0.5963 - accuracy: 0.9000\n",
      "Epoch 32/100\n",
      "1/1 [==============================] - 0s 12ms/step - loss: 0.5929 - accuracy: 0.9000\n",
      "Epoch 33/100\n",
      "1/1 [==============================] - 0s 12ms/step - loss: 0.5895 - accuracy: 0.9000\n",
      "Epoch 34/100\n",
      "1/1 [==============================] - 0s 19ms/step - loss: 0.5861 - accuracy: 0.9333\n",
      "Epoch 35/100\n",
      "1/1 [==============================] - 0s 13ms/step - loss: 0.5826 - accuracy: 0.9333\n",
      "Epoch 36/100\n",
      "1/1 [==============================] - 0s 11ms/step - loss: 0.5792 - accuracy: 0.9667\n",
      "Epoch 37/100\n",
      "1/1 [==============================] - 0s 14ms/step - loss: 0.5756 - accuracy: 0.9667\n",
      "Epoch 38/100\n",
      "1/1 [==============================] - 0s 11ms/step - loss: 0.5721 - accuracy: 1.0000\n",
      "Epoch 39/100\n",
      "1/1 [==============================] - 0s 14ms/step - loss: 0.5686 - accuracy: 1.0000\n",
      "Epoch 40/100\n",
      "1/1 [==============================] - 0s 14ms/step - loss: 0.5650 - accuracy: 1.0000\n",
      "Epoch 41/100\n",
      "1/1 [==============================] - 0s 11ms/step - loss: 0.5614 - accuracy: 1.0000\n",
      "Epoch 42/100\n",
      "1/1 [==============================] - 0s 15ms/step - loss: 0.5578 - accuracy: 1.0000\n",
      "Epoch 43/100\n",
      "1/1 [==============================] - 0s 8ms/step - loss: 0.5542 - accuracy: 1.0000\n",
      "Epoch 44/100\n",
      "1/1 [==============================] - 0s 15ms/step - loss: 0.5505 - accuracy: 1.0000\n",
      "Epoch 45/100\n",
      "1/1 [==============================] - 0s 9ms/step - loss: 0.5468 - accuracy: 1.0000\n",
      "Epoch 46/100\n",
      "1/1 [==============================] - 0s 13ms/step - loss: 0.5431 - accuracy: 1.0000\n",
      "Epoch 47/100\n",
      "1/1 [==============================] - 0s 10ms/step - loss: 0.5393 - accuracy: 1.0000\n",
      "Epoch 48/100\n",
      "1/1 [==============================] - 0s 12ms/step - loss: 0.5355 - accuracy: 1.0000\n",
      "Epoch 49/100\n",
      "1/1 [==============================] - 0s 14ms/step - loss: 0.5317 - accuracy: 1.0000\n",
      "Epoch 50/100\n",
      "1/1 [==============================] - 0s 11ms/step - loss: 0.5279 - accuracy: 1.0000\n",
      "Epoch 51/100\n",
      "1/1 [==============================] - 0s 18ms/step - loss: 0.5240 - accuracy: 1.0000\n",
      "Epoch 52/100\n",
      "1/1 [==============================] - 0s 14ms/step - loss: 0.5201 - accuracy: 1.0000\n",
      "Epoch 53/100\n",
      "1/1 [==============================] - 0s 13ms/step - loss: 0.5163 - accuracy: 1.0000\n",
      "Epoch 54/100\n",
      "1/1 [==============================] - 0s 12ms/step - loss: 0.5124 - accuracy: 1.0000\n",
      "Epoch 55/100\n",
      "1/1 [==============================] - 0s 15ms/step - loss: 0.5084 - accuracy: 1.0000\n",
      "Epoch 56/100\n",
      "1/1 [==============================] - 0s 14ms/step - loss: 0.5045 - accuracy: 1.0000\n",
      "Epoch 57/100\n",
      "1/1 [==============================] - 0s 11ms/step - loss: 0.5005 - accuracy: 1.0000\n",
      "Epoch 58/100\n",
      "1/1 [==============================] - 0s 14ms/step - loss: 0.4965 - accuracy: 1.0000\n",
      "Epoch 59/100\n",
      "1/1 [==============================] - 0s 9ms/step - loss: 0.4924 - accuracy: 1.0000\n",
      "Epoch 60/100\n",
      "1/1 [==============================] - 0s 10ms/step - loss: 0.4884 - accuracy: 1.0000\n",
      "Epoch 61/100\n",
      "1/1 [==============================] - 0s 10ms/step - loss: 0.4843 - accuracy: 1.0000\n",
      "Epoch 62/100\n",
      "1/1 [==============================] - 0s 13ms/step - loss: 0.4802 - accuracy: 1.0000\n",
      "Epoch 63/100\n",
      "1/1 [==============================] - 0s 14ms/step - loss: 0.4761 - accuracy: 1.0000\n",
      "Epoch 64/100\n",
      "1/1 [==============================] - 0s 14ms/step - loss: 0.4719 - accuracy: 1.0000\n",
      "Epoch 65/100\n",
      "1/1 [==============================] - 0s 13ms/step - loss: 0.4678 - accuracy: 1.0000\n",
      "Epoch 66/100\n",
      "1/1 [==============================] - 0s 12ms/step - loss: 0.4636 - accuracy: 1.0000\n",
      "Epoch 67/100\n",
      "1/1 [==============================] - 0s 12ms/step - loss: 0.4593 - accuracy: 1.0000\n",
      "Epoch 68/100\n",
      "1/1 [==============================] - 0s 11ms/step - loss: 0.4551 - accuracy: 1.0000\n",
      "Epoch 69/100\n",
      "1/1 [==============================] - 0s 10ms/step - loss: 0.4508 - accuracy: 1.0000\n",
      "Epoch 70/100\n",
      "1/1 [==============================] - 0s 11ms/step - loss: 0.4466 - accuracy: 1.0000\n",
      "Epoch 71/100\n",
      "1/1 [==============================] - 0s 11ms/step - loss: 0.4423 - accuracy: 1.0000\n",
      "Epoch 72/100\n",
      "1/1 [==============================] - 0s 11ms/step - loss: 0.4380 - accuracy: 1.0000\n",
      "Epoch 73/100\n",
      "1/1 [==============================] - 0s 10ms/step - loss: 0.4337 - accuracy: 1.0000\n",
      "Epoch 74/100\n",
      "1/1 [==============================] - 0s 10ms/step - loss: 0.4294 - accuracy: 1.0000\n",
      "Epoch 75/100\n",
      "1/1 [==============================] - 0s 13ms/step - loss: 0.4251 - accuracy: 1.0000\n",
      "Epoch 76/100\n",
      "1/1 [==============================] - 0s 14ms/step - loss: 0.4208 - accuracy: 1.0000\n",
      "Epoch 77/100\n",
      "1/1 [==============================] - 0s 16ms/step - loss: 0.4165 - accuracy: 1.0000\n",
      "Epoch 78/100\n",
      "1/1 [==============================] - 0s 21ms/step - loss: 0.4121 - accuracy: 1.0000\n",
      "Epoch 79/100\n",
      "1/1 [==============================] - 0s 21ms/step - loss: 0.4078 - accuracy: 1.0000\n",
      "Epoch 80/100\n",
      "1/1 [==============================] - 0s 13ms/step - loss: 0.4035 - accuracy: 1.0000\n",
      "Epoch 81/100\n",
      "1/1 [==============================] - 0s 19ms/step - loss: 0.3992 - accuracy: 1.0000\n",
      "Epoch 82/100\n",
      "1/1 [==============================] - 0s 13ms/step - loss: 0.3949 - accuracy: 1.0000\n",
      "Epoch 83/100\n",
      "1/1 [==============================] - 0s 15ms/step - loss: 0.3906 - accuracy: 1.0000\n",
      "Epoch 84/100\n",
      "1/1 [==============================] - 0s 17ms/step - loss: 0.3863 - accuracy: 1.0000\n",
      "Epoch 85/100\n",
      "1/1 [==============================] - 0s 16ms/step - loss: 0.3821 - accuracy: 1.0000\n",
      "Epoch 86/100\n",
      "1/1 [==============================] - 0s 19ms/step - loss: 0.3778 - accuracy: 1.0000\n",
      "Epoch 87/100\n",
      "1/1 [==============================] - 0s 18ms/step - loss: 0.3735 - accuracy: 1.0000\n",
      "Epoch 88/100\n",
      "1/1 [==============================] - 0s 19ms/step - loss: 0.3692 - accuracy: 1.0000\n",
      "Epoch 89/100\n",
      "1/1 [==============================] - 0s 21ms/step - loss: 0.3650 - accuracy: 1.0000\n",
      "Epoch 90/100\n",
      "1/1 [==============================] - 0s 12ms/step - loss: 0.3607 - accuracy: 1.0000\n",
      "Epoch 91/100\n",
      "1/1 [==============================] - 0s 11ms/step - loss: 0.3564 - accuracy: 1.0000\n",
      "Epoch 92/100\n",
      "1/1 [==============================] - 0s 12ms/step - loss: 0.3522 - accuracy: 1.0000\n",
      "Epoch 93/100\n",
      "1/1 [==============================] - 0s 11ms/step - loss: 0.3479 - accuracy: 1.0000\n",
      "Epoch 94/100\n",
      "1/1 [==============================] - 0s 10ms/step - loss: 0.3437 - accuracy: 1.0000\n",
      "Epoch 95/100\n",
      "1/1 [==============================] - 0s 11ms/step - loss: 0.3395 - accuracy: 1.0000\n",
      "Epoch 96/100\n",
      "1/1 [==============================] - 0s 12ms/step - loss: 0.3353 - accuracy: 1.0000\n",
      "Epoch 97/100\n",
      "1/1 [==============================] - 0s 11ms/step - loss: 0.3312 - accuracy: 1.0000\n",
      "Epoch 98/100\n",
      "1/1 [==============================] - 0s 10ms/step - loss: 0.3270 - accuracy: 1.0000\n",
      "Epoch 99/100\n",
      "1/1 [==============================] - 0s 10ms/step - loss: 0.3229 - accuracy: 1.0000\n",
      "Epoch 100/100\n",
      "1/1 [==============================] - 0s 10ms/step - loss: 0.3188 - accuracy: 1.0000\n"
     ]
    },
    {
     "data": {
      "text/plain": [
       "<keras.src.callbacks.History at 0x29d2ec84c70>"
      ]
     },
     "execution_count": 14,
     "metadata": {},
     "output_type": "execute_result"
    }
   ],
   "source": [
    "from keras.models import Sequential #Creating and building the models\n",
    "from keras.layers import Dense\n",
    "from tensorflow.keras.optimizers import Adam\n",
    "model=Sequential()\n",
    "model.add(Dense(32,input_shape=(len(unique_words),), activation='relu'))\n",
    "model.add(Dense(1,activation='sigmoid'))\n",
    "model.compile(loss='binary_crossentropy', optimizer='adam', metrics=['accuracy'])\n",
    "model.fit(X_train_tfidf.toarray(),y_train, epochs=100, batch_size=32) #best epoch"
   ]
  },
  {
   "cell_type": "code",
   "execution_count": 15,
   "id": "748067b6",
   "metadata": {},
   "outputs": [
    {
     "name": "stdout",
     "output_type": "stream",
     "text": [
      "1/1 [==============================] - 0s 218ms/step - loss: 0.7078 - accuracy: 0.6000\n",
      "Test Loss: 0.7077654600143433, Test Accuracy: 0.6000000238418579\n"
     ]
    }
   ],
   "source": [
    "loss, accuracy = model.evaluate(X_test_tfidf.toarray(), y_test) #Model evaluation\n",
    "print(f\"Test Loss: {loss}, Test Accuracy: {accuracy}\")"
   ]
  },
  {
   "cell_type": "markdown",
   "id": "897d6107",
   "metadata": {},
   "source": [
    "#### Step 5"
   ]
  },
  {
   "cell_type": "markdown",
   "id": "bcc821f5",
   "metadata": {},
   "source": [
    "##### 5a"
   ]
  },
  {
   "cell_type": "code",
   "execution_count": 16,
   "id": "2e653cff",
   "metadata": {},
   "outputs": [],
   "source": [
    "#Creating models for various nodes for single neural layer\n",
    "def train_single_layer_model(num_nodes):\n",
    "    model=Sequential()\n",
    "    model.add(Dense(num_nodes, input_shape=(len(unique_words),), activation='relu'))\n",
    "    model.add(Dense(1, activation='sigmoid'))\n",
    "    optimizer=Adam(learning_rate=0.001)\n",
    "    model.compile(loss='binary_crossentropy', optimizer=optimizer, metrics=['accuracy'])\n",
    "\n",
    "    start_time=time.time()\n",
    "    history=model.fit(X_train_tfidf.toarray(), y_train, epochs=100, batch_size=32, verbose=0) #best epoch\n",
    "    end_time=time.time()\n",
    "    elapsed_time=end_time-start_time\n",
    "\n",
    "    num_parameters=model.count_params()\n",
    "    training_accuracy=history.history['accuracy'][-1]\n",
    "    testing_loss,testing_accuracy=model.evaluate(X_test_tfidf.toarray(), y_test)\n",
    "\n",
    "    return num_parameters, training_accuracy, testing_accuracy, elapsed_time"
   ]
  },
  {
   "cell_type": "code",
   "execution_count": 17,
   "id": "107cf7ca",
   "metadata": {
    "scrolled": true
   },
   "outputs": [
    {
     "name": "stdout",
     "output_type": "stream",
     "text": [
      "1/1 [==============================] - 0s 163ms/step - loss: 0.7053 - accuracy: 0.5000\n",
      "1/1 [==============================] - 0s 164ms/step - loss: 0.6902 - accuracy: 0.7000\n",
      "1/1 [==============================] - 0s 161ms/step - loss: 0.7023 - accuracy: 0.5000\n",
      "WARNING:tensorflow:5 out of the last 5 calls to <function Model.make_test_function.<locals>.test_function at 0x0000029D3256A940> triggered tf.function retracing. Tracing is expensive and the excessive number of tracings could be due to (1) creating @tf.function repeatedly in a loop, (2) passing tensors with different shapes, (3) passing Python objects instead of tensors. For (1), please define your @tf.function outside of the loop. For (2), @tf.function has reduce_retracing=True option that can avoid unnecessary retracing. For (3), please refer to https://www.tensorflow.org/guide/function#controlling_retracing and https://www.tensorflow.org/api_docs/python/tf/function for  more details.\n",
      "1/1 [==============================] - 0s 168ms/step - loss: 0.7389 - accuracy: 0.6000\n",
      "WARNING:tensorflow:6 out of the last 6 calls to <function Model.make_test_function.<locals>.test_function at 0x0000029D326D7EE0> triggered tf.function retracing. Tracing is expensive and the excessive number of tracings could be due to (1) creating @tf.function repeatedly in a loop, (2) passing tensors with different shapes, (3) passing Python objects instead of tensors. For (1), please define your @tf.function outside of the loop. For (2), @tf.function has reduce_retracing=True option that can avoid unnecessary retracing. For (3), please refer to https://www.tensorflow.org/guide/function#controlling_retracing and https://www.tensorflow.org/api_docs/python/tf/function for  more details.\n",
      "1/1 [==============================] - 0s 170ms/step - loss: 0.7879 - accuracy: 0.7000\n",
      "1/1 [==============================] - 0s 162ms/step - loss: 0.9099 - accuracy: 0.6000\n",
      "1/1 [==============================] - 0s 164ms/step - loss: 1.0587 - accuracy: 0.6000\n",
      "1/1 [==============================] - 0s 162ms/step - loss: 1.1194 - accuracy: 0.7000\n"
     ]
    }
   ],
   "source": [
    "import time\n",
    "nodes_list=[8, 16, 32, 64, 128, 256, 512, 1028]\n",
    "num_parameters_list=[] #Creating lists to store the values of models\n",
    "training_accuracy_list=[]\n",
    "testing_accuracy_list=[]\n",
    "running_time_list=[]\n",
    "\n",
    "for num_nodes in nodes_list:\n",
    "    num_parameters, training_accuracy, testing_accuracy, elapsed_time = train_single_layer_model(num_nodes)\n",
    "    num_parameters_list.append(num_parameters)\n",
    "    training_accuracy_list.append(training_accuracy)\n",
    "    testing_accuracy_list.append(testing_accuracy)\n",
    "    running_time_list.append(elapsed_time)"
   ]
  },
  {
   "cell_type": "code",
   "execution_count": 18,
   "id": "543bfad6",
   "metadata": {},
   "outputs": [
    {
     "name": "stdout",
     "output_type": "stream",
     "text": [
      "Parameters:  [905, 1809, 3617, 7233, 14465, 28929, 57857, 116165]\n",
      "Training accuracy: [1.0, 1.0, 1.0, 1.0, 1.0, 1.0, 1.0, 1.0]\n",
      "Testing Accuracy: [0.5, 0.699999988079071, 0.5, 0.6000000238418579, 0.699999988079071, 0.6000000238418579, 0.6000000238418579, 0.699999988079071]\n",
      "Elapsed time: [1.3562860488891602, 1.3376076221466064, 1.3337469100952148, 1.3360636234283447, 1.342658281326294, 1.3627052307128906, 1.3878157138824463, 1.4854001998901367]\n"
     ]
    }
   ],
   "source": [
    "print(\"Parameters: \",num_parameters_list)\n",
    "print(\"Training accuracy:\",training_accuracy_list)\n",
    "print(\"Testing Accuracy:\",testing_accuracy_list)\n",
    "print(\"Elapsed time:\",running_time_list)"
   ]
  },
  {
   "cell_type": "code",
   "execution_count": 19,
   "id": "2558da09",
   "metadata": {},
   "outputs": [
    {
     "data": {
      "image/png": "[encoded data removed]",
      "text/plain": [
       "<Figure size 1008x864 with 4 Axes>"
      ]
     },
     "metadata": {
      "needs_background": "light"
     },
     "output_type": "display_data"
    }
   ],
   "source": [
    "#Creating Bargraph for the values\n",
    "import seaborn as sns\n",
    "import matplotlib.pyplot as plt\n",
    "fig, axes=plt.subplots(nrows=2, ncols=2, figsize=(14, 12))\n",
    "sns.barplot(x=nodes_list, y=num_parameters_list, ax=axes[0, 0])\n",
    "axes[0, 0].set_xlabel('Number of Nodes')\n",
    "axes[0, 0].set_ylabel('Number of Parameters')\n",
    "axes[0, 0].set_title('Parameters Graph')\n",
    "sns.barplot(x=nodes_list, y=training_accuracy_list, ax=axes[0, 1])\n",
    "axes[0, 1].set_xlabel('Number of Nodes')\n",
    "axes[0, 1].set_ylabel('Training Accuracy')\n",
    "axes[0, 1].set_title('Training Accuracy Graph')\n",
    "axes[0, 1].set_ylim([0, 1])\n",
    "sns.barplot(x=nodes_list, y=testing_accuracy_list, ax=axes[1, 0])\n",
    "axes[1, 0].set_xlabel('Number of Nodes')\n",
    "axes[1, 0].set_ylabel('Testing Accuracy')\n",
    "axes[1, 0].set_title('Testing Accuracy Graph')\n",
    "axes[1, 0].set_ylim([0, 1])\n",
    "sns.barplot(x=nodes_list, y=running_time_list, ax=axes[1, 1])\n",
    "axes[1, 1].set_xlabel('Number of Nodes')\n",
    "axes[1, 1].set_ylabel('Running Time (s)')\n",
    "axes[1, 1].set_title('Running Time Graph')\n",
    "plt.show()"
   ]
  },
  {
   "cell_type": "markdown",
   "id": "e7097272",
   "metadata": {},
   "source": [
    "##### 5b"
   ]
  },
  {
   "cell_type": "code",
   "execution_count": 20,
   "id": "f263e215",
   "metadata": {},
   "outputs": [],
   "source": [
    "#Creating models for various layers with constant nodes\n",
    "def train_multi_layer_model(num_nodes):\n",
    "    model=Sequential()\n",
    "    model.add(Dense(32,input_shape=(len(unique_words),),activation='relu'))\n",
    "    for _ in range(num_layers-1):\n",
    "        model.add(Dense(32, activation='relu'))\n",
    "    model.add(Dense(1, activation='sigmoid'))\n",
    "    optimizer=Adam(learning_rate=0.001)\n",
    "    model.compile(loss='binary_crossentropy', optimizer=optimizer, metrics=['accuracy'])\n",
    "\n",
    "    start_time=time.time()\n",
    "    history=model.fit(X_train_tfidf.toarray(), y_train, epochs=100, batch_size=32, verbose=0)\n",
    "    end_time=time.time()\n",
    "    elapsed_time=end_time-start_time\n",
    "\n",
    "    num_parameters=model.count_params()\n",
    "    training_accuracy= history.history['accuracy'][-1]\n",
    "    testing_loss,testing_accuracy=model.evaluate(X_test_tfidf.toarray(),y_test)\n",
    "\n",
    "    return num_parameters, training_accuracy, testing_accuracy, elapsed_time"
   ]
  },
  {
   "cell_type": "code",
   "execution_count": 21,
   "id": "5f2e3037",
   "metadata": {},
   "outputs": [
    {
     "name": "stdout",
     "output_type": "stream",
     "text": [
      "1/1 [==============================] - 0s 175ms/step - loss: 0.7025 - accuracy: 0.7000\n",
      "1/1 [==============================] - 0s 181ms/step - loss: 0.8594 - accuracy: 0.7000\n",
      "1/1 [==============================] - 0s 189ms/step - loss: 1.2048 - accuracy: 0.6000\n",
      "1/1 [==============================] - 0s 201ms/step - loss: 1.6236 - accuracy: 0.7000\n"
     ]
    }
   ],
   "source": [
    "layers_list=[2, 3, 4, 5]\n",
    "num_parameters_list=[]\n",
    "training_accuracy_list=[]\n",
    "testing_accuracy_list=[]\n",
    "running_time_list=[]\n",
    "\n",
    "for num_layers in layers_list:\n",
    "    num_parameters, training_accuracy, testing_accuracy, elapsed_time=train_multi_layer_model(num_nodes)\n",
    "    num_parameters_list.append(num_parameters)\n",
    "    training_accuracy_list.append(training_accuracy)\n",
    "    testing_accuracy_list.append(testing_accuracy)\n",
    "    running_time_list.append(elapsed_time)"
   ]
  },
  {
   "cell_type": "code",
   "execution_count": 22,
   "id": "a846db67",
   "metadata": {},
   "outputs": [
    {
     "name": "stdout",
     "output_type": "stream",
     "text": [
      "Parameters:  [4673, 5729, 6785, 7841]\n",
      "Training accuracy: [1.0, 1.0, 1.0, 1.0]\n",
      "Testing Accuracy: [0.699999988079071, 0.699999988079071, 0.6000000238418579, 0.699999988079071]\n",
      "Elapsed time: [2.0578131675720215, 2.1192288398742676, 1.9216132164001465, 2.1237897872924805]\n"
     ]
    }
   ],
   "source": [
    "print(\"Parameters: \",num_parameters_list)\n",
    "print(\"Training accuracy:\",training_accuracy_list)\n",
    "print(\"Testing Accuracy:\",testing_accuracy_list)\n",
    "print(\"Elapsed time:\",running_time_list)"
   ]
  },
  {
   "cell_type": "code",
   "execution_count": 23,
   "id": "7cb624df",
   "metadata": {},
   "outputs": [
    {
     "data": {
      "image/png": "[encoded data removed]",
      "text/plain": [
       "<Figure size 1008x864 with 4 Axes>"
      ]
     },
     "metadata": {
      "needs_background": "light"
     },
     "output_type": "display_data"
    }
   ],
   "source": [
    "#Creating bargraph for the values\n",
    "fig, axes=plt.subplots(nrows=2,ncols=2,figsize=(14, 12))\n",
    "sns.barplot(x=layers_list,y=num_parameters_list,ax=axes[0, 0])\n",
    "axes[0, 0].set_xlabel('Number of Layers')\n",
    "axes[0, 0].set_ylabel('Number of Parameters')\n",
    "axes[0, 0].set_title('Number of Parameters in Models')\n",
    "sns.barplot(x=layers_list, y=training_accuracy_list, ax=axes[0, 1])\n",
    "axes[0, 1].set_xlabel('Number of Layers')\n",
    "axes[0, 1].set_ylabel('Training Accuracy')\n",
    "axes[0, 1].set_title('Training Accuracy of Models')\n",
    "axes[0, 1].set_ylim([0, 1])  \n",
    "sns.barplot(x=layers_list, y=testing_accuracy_list, ax=axes[1, 0])\n",
    "axes[1, 0].set_xlabel('Number of Layers')\n",
    "axes[1, 0].set_ylabel('Testing Accuracy')\n",
    "axes[1, 0].set_title('Testing Accuracy of Models')\n",
    "axes[1, 0].set_ylim([0, 1])  \n",
    "sns.barplot(x=layers_list, y=running_time_list, ax=axes[1, 1])\n",
    "axes[1, 1].set_xlabel('Number of Layers')\n",
    "axes[1, 1].set_ylabel('Running Time (s)')\n",
    "axes[1, 1].set_title('Running Time for Testing of Models')\n",
    "plt.show()"
   ]
  }
 ],
 "metadata": {
  "kernelspec": {
   "display_name": "Python 3 (ipykernel)",
   "language": "python",
   "name": "python3"
  },
  "language_info": {
   "codemirror_mode": {
    "name": "ipython",
    "version": 3
   },
   "file_extension": ".py",
   "mimetype": "text/x-python",
   "name": "python",
   "nbconvert_exporter": "python",
   "pygments_lexer": "ipython3",
   "version": "3.9.12"
  }
 },
 "nbformat": 4,
 "nbformat_minor": 5
}
