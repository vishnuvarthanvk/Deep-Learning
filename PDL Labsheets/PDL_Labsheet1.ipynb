{
 "cells": [
  {
   "cell_type": "markdown",
   "id": "08cd4e68",
   "metadata": {},
   "source": [
    "# 225229147"
   ]
  },
  {
   "cell_type": "markdown",
   "id": "1037aa61",
   "metadata": {},
   "source": [
    "# Lab1. Python Functions and Numpy"
   ]
  },
  {
   "cell_type": "markdown",
   "id": "1c9a85c4",
   "metadata": {},
   "source": [
    "### Part-I: Write a method for sigmoid function"
   ]
  },
  {
   "cell_type": "code",
   "execution_count": 1,
   "id": "a8a6a46c",
   "metadata": {},
   "outputs": [],
   "source": [
    "import math\n",
    "import numpy"
   ]
  },
  {
   "cell_type": "code",
   "execution_count": 26,
   "id": "d6854730",
   "metadata": {},
   "outputs": [],
   "source": [
    "#1)\n",
    "def mysigmoid(x):\n",
    "    a=1/(1+math.exp(-x))\n",
    "    return a"
   ]
  },
  {
   "cell_type": "code",
   "execution_count": 27,
   "id": "27a89795",
   "metadata": {},
   "outputs": [
    {
     "data": {
      "text/plain": [
       "0.9820137900379085"
      ]
     },
     "execution_count": 27,
     "metadata": {},
     "output_type": "execute_result"
    }
   ],
   "source": [
    "#2\n",
    "mysigmoid(4)"
   ]
  },
  {
   "cell_type": "code",
   "execution_count": 28,
   "id": "37e76490",
   "metadata": {},
   "outputs": [
    {
     "data": {
      "text/plain": [
       "[0.7310585786300049, 0.8807970779778823, 0.9525741268224334]"
      ]
     },
     "execution_count": 28,
     "metadata": {},
     "output_type": "execute_result"
    }
   ],
   "source": [
    "#3\n",
    "x=[1,2,3]\n",
    "sigval=[mysigmoid(i) for i in x]\n",
    "sigval"
   ]
  },
  {
   "cell_type": "code",
   "execution_count": 35,
   "id": "de79443b",
   "metadata": {},
   "outputs": [
    {
     "name": "stdout",
     "output_type": "stream",
     "text": [
      "[0.73105858 0.88079708 0.95257413]\n"
     ]
    }
   ],
   "source": [
    "#4\n",
    "import numpy as np\n",
    "def mysigmoid(x):\n",
    "    x=np.array(x)\n",
    "    return 1/(1+np.exp(-x))\n",
    "#5\n",
    "x=[1,2,3]\n",
    "sigval=mysigmoid(x)\n",
    "print(sigval)"
   ]
  },
  {
   "cell_type": "markdown",
   "id": "8a326517",
   "metadata": {},
   "source": [
    "### Part II Gradient or derivative of sigmoid function"
   ]
  },
  {
   "cell_type": "code",
   "execution_count": 36,
   "id": "db47fc95",
   "metadata": {},
   "outputs": [
    {
     "data": {
      "text/plain": [
       "0.017662706213291107"
      ]
     },
     "execution_count": 36,
     "metadata": {},
     "output_type": "execute_result"
    }
   ],
   "source": [
    "def sig_derivative(s):\n",
    "    return s*(1-s)\n",
    "sig_derivative(mysigmoid(4))"
   ]
  },
  {
   "cell_type": "markdown",
   "id": "2353f98b",
   "metadata": {},
   "source": [
    "### Part III Write a method image_to_vector()"
   ]
  },
  {
   "cell_type": "code",
   "execution_count": 39,
   "id": "a6eee6c6",
   "metadata": {},
   "outputs": [
    {
     "name": "stdout",
     "output_type": "stream",
     "text": [
      "[[255]\n",
      " [  0]\n",
      " [  0]\n",
      " [  0]\n",
      " [255]\n",
      " [  0]\n",
      " [  0]\n",
      " [  0]\n",
      " [255]\n",
      " [255]\n",
      " [255]\n",
      " [  0]\n",
      " [255]\n",
      " [  0]\n",
      " [255]\n",
      " [  0]\n",
      " [255]\n",
      " [255]\n",
      " [255]\n",
      " [255]\n",
      " [255]\n",
      " [  0]\n",
      " [  0]\n",
      " [  0]\n",
      " [128]\n",
      " [128]\n",
      " [128]]\n"
     ]
    }
   ],
   "source": [
    "def image_to_vector(image):\n",
    "    length, height, depth = image.shape\n",
    "    vector = image.reshape((length * height * 3, 1))\n",
    "    return vector\n",
    "image = np.array([[[255, 0, 0], [0, 255, 0], [0, 0, 255]],\n",
    "                  [[255, 255, 0], [255, 0, 255], [0, 255, 255]],\n",
    "                  [[255, 255, 255], [0, 0, 0], [128, 128, 128]]])\n",
    "vector = image_to_vector(image)\n",
    "print(vector)"
   ]
  },
  {
   "cell_type": "markdown",
   "id": "d4bfbcc3",
   "metadata": {},
   "source": [
    "### Part IV  Write a Method normalizeRows()"
   ]
  },
  {
   "cell_type": "code",
   "execution_count": 41,
   "id": "bd60d87a",
   "metadata": {},
   "outputs": [],
   "source": [
    "def normalizeRows(x):\n",
    "    norms = np.linalg.norm(x, axis=1, keepdims=True)\n",
    "    normalized_x = x / norms\n",
    "    return normalized_x"
   ]
  },
  {
   "cell_type": "code",
   "execution_count": 43,
   "id": "1d3f5fcd",
   "metadata": {},
   "outputs": [
    {
     "name": "stdout",
     "output_type": "stream",
     "text": [
      "[[0.78072006 0.48795004 0.39036003]\n",
      " [0.27216553 0.13608276 0.95257934]\n",
      " [0.26726124 0.80178373 0.53452248]]\n"
     ]
    }
   ],
   "source": [
    "x = np.array([[8, 5, 4],\n",
    "              [2, 1, 7],\n",
    "              [3, 9, 6]])\n",
    "normalized_x = normalizeRows(x)\n",
    "print(normalized_x)"
   ]
  },
  {
   "cell_type": "markdown",
   "id": "ee989bd2",
   "metadata": {},
   "source": [
    "### Part V Multiplication and Vectorization Operations"
   ]
  },
  {
   "cell_type": "code",
   "execution_count": 45,
   "id": "d4193572",
   "metadata": {},
   "outputs": [
    {
     "name": "stdout",
     "output_type": "stream",
     "text": [
      "Multiplication: [63  4 10]\n",
      "Dot product: 77\n"
     ]
    }
   ],
   "source": [
    "#1.a) small array\n",
    "x1 = [9, 2, 5]\n",
    "x2 = [7, 2, 2]\n",
    "a=np.multiply(x1,x2)\n",
    "b=np.dot(x1,x2)\n",
    "print(\"Multiplication:\",a)\n",
    "print(\"Dot product:\",b)"
   ]
  },
  {
   "cell_type": "code",
   "execution_count": 46,
   "id": "8cc4076b",
   "metadata": {},
   "outputs": [
    {
     "name": "stdout",
     "output_type": "stream",
     "text": [
      "Multiplication: [63  4 10  0  0 63 10  0  0  0 81  4 25  0  0 32 25 21]\n",
      "Dot product: 338\n"
     ]
    }
   ],
   "source": [
    "#b) Large array\n",
    "x1 = [9, 2, 5, 0, 0, 7, 5, 0, 0, 0, 9, 2, 5, 0, 0, 4, 5, 7]\n",
    "x2 = [7, 2, 2, 9, 0, 9, 2, 5, 0, 0, 9, 2, 5, 0, 0, 8, 5, 3]\n",
    "a=np.multiply(x1,x2)\n",
    "b=np.dot(x1,x2)\n",
    "print(\"Multiplication:\",a)\n",
    "print(\"Dot product:\",b)"
   ]
  },
  {
   "cell_type": "code",
   "execution_count": 53,
   "id": "552fbae6",
   "metadata": {},
   "outputs": [
    {
     "name": "stdout",
     "output_type": "stream",
     "text": [
      "Multiplication Time: 0.002992868423461914\n",
      "Dot Product Time: 0.0009682178497314453\n"
     ]
    }
   ],
   "source": [
    "#2\n",
    "import numpy as np\n",
    "import time\n",
    "\n",
    "N = 1000000\n",
    "\n",
    "# Create random vectors\n",
    "x1 = np.random.rand(N)\n",
    "x2 = np.random.rand(N)\n",
    "\n",
    "# Perform multiplication and measure the time\n",
    "start_time = time.time()\n",
    "multiplication = x1 * x2\n",
    "end_time = time.time()\n",
    "multiplication_time = end_time - start_time\n",
    "\n",
    "# Perform vectorization and measure the time\n",
    "start_time = time.time()\n",
    "dot_product = np.dot(x1, x2)\n",
    "end_time = time.time()\n",
    "dot_product_time = end_time - start_time\n",
    "\n",
    "print(\"Multiplication Time:\", multiplication_time)\n",
    "print(\"Dot Product Time:\", dot_product_time)\n"
   ]
  },
  {
   "cell_type": "markdown",
   "id": "79d86002",
   "metadata": {},
   "source": [
    "### Part-VI: Implement L1 and L2 loss functions"
   ]
  },
  {
   "cell_type": "code",
   "execution_count": 54,
   "id": "c375337c",
   "metadata": {},
   "outputs": [],
   "source": [
    "def loss_l1(y, ypred): #defining functions\n",
    "    return np.sum(np.abs(y - ypred))\n",
    "def loss_l2(y, ypred):\n",
    "    return np.sum(np.square(y - ypred))"
   ]
  },
  {
   "cell_type": "code",
   "execution_count": 55,
   "id": "f4ecc487",
   "metadata": {},
   "outputs": [
    {
     "name": "stdout",
     "output_type": "stream",
     "text": [
      "L1 Loss: 1.1\n"
     ]
    }
   ],
   "source": [
    "#1 Function calling\n",
    "y = np.array([1, 0, 0, 1, 1])\n",
    "ypred = np.array([0.9, 0.2, 0.1, 0.4, 0.9])\n",
    "l1_loss = loss_l1(y, ypred)\n",
    "print(\"L1 Loss:\", l1_loss)"
   ]
  },
  {
   "cell_type": "code",
   "execution_count": 56,
   "id": "62279bff",
   "metadata": {},
   "outputs": [
    {
     "name": "stdout",
     "output_type": "stream",
     "text": [
      "L2 Loss: 0.43\n"
     ]
    }
   ],
   "source": [
    "#2\n",
    "y = np.array([1, 0, 0, 1, 1])\n",
    "ypred = np.array([0.9, 0.2, 0.1, 0.4, 0.9])\n",
    "l2_loss = loss_l2(y, ypred)\n",
    "print(\"L2 Loss:\", l2_loss)\n"
   ]
  }
 ],
 "metadata": {
  "kernelspec": {
   "display_name": "Python 3 (ipykernel)",
   "language": "python",
   "name": "python3"
  },
  "language_info": {
   "codemirror_mode": {
    "name": "ipython",
    "version": 3
   },
   "file_extension": ".py",
   "mimetype": "text/x-python",
   "name": "python",
   "nbconvert_exporter": "python",
   "pygments_lexer": "ipython3",
   "version": "3.9.12"
  }
 },
 "nbformat": 4,
 "nbformat_minor": 5
}
