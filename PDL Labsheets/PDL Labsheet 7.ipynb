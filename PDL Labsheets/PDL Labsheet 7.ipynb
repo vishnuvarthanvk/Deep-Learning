{
 "cells": [
  {
   "cell_type": "markdown",
   "id": "eecf2924",
   "metadata": {},
   "source": [
    "# 225229147"
   ]
  },
  {
   "cell_type": "markdown",
   "id": "83cb0f58",
   "metadata": {},
   "source": [
    "# Lab7. Exploration of DNN design choices using MNIST dataset"
   ]
  },
  {
   "cell_type": "code",
   "execution_count": 3,
   "id": "ebdc8fa2",
   "metadata": {},
   "outputs": [],
   "source": [
    "#importing necessary modules\n",
    "import tensorflow as tf\n",
    "import keras"
   ]
  },
  {
   "cell_type": "code",
   "execution_count": 4,
   "id": "e33ccf6f",
   "metadata": {},
   "outputs": [],
   "source": [
    "#Loading the dataset\n",
    "from keras.datasets import mnist\n",
    "data = mnist.load_data()"
   ]
  },
  {
   "cell_type": "code",
   "execution_count": 5,
   "id": "67bae4b0",
   "metadata": {},
   "outputs": [
    {
     "data": {
      "text/plain": [
       "(60000, 28, 28)"
      ]
     },
     "execution_count": 5,
     "metadata": {},
     "output_type": "execute_result"
    }
   ],
   "source": [
    "(X_train,y_train),(X_test,y_test)=data\n",
    "X_train.shape"
   ]
  },
  {
   "cell_type": "code",
   "execution_count": 6,
   "id": "94a42a4a",
   "metadata": {},
   "outputs": [
    {
     "data": {
      "text/plain": [
       "(10000, 28, 28)"
      ]
     },
     "execution_count": 6,
     "metadata": {},
     "output_type": "execute_result"
    }
   ],
   "source": [
    "X_test.shape"
   ]
  },
  {
   "cell_type": "code",
   "execution_count": 7,
   "id": "5f30ba3e",
   "metadata": {},
   "outputs": [
    {
     "data": {
      "text/plain": [
       "(60000,)"
      ]
     },
     "execution_count": 7,
     "metadata": {},
     "output_type": "execute_result"
    }
   ],
   "source": [
    "y_train.shape"
   ]
  },
  {
   "cell_type": "code",
   "execution_count": 8,
   "id": "42582215",
   "metadata": {},
   "outputs": [
    {
     "data": {
      "text/plain": [
       "(10000,)"
      ]
     },
     "execution_count": 8,
     "metadata": {},
     "output_type": "execute_result"
    }
   ],
   "source": [
    "y_test.shape"
   ]
  },
  {
   "cell_type": "code",
   "execution_count": 9,
   "id": "be706915",
   "metadata": {},
   "outputs": [
    {
     "data": {
      "image/png": "[encoded data removed]",
      "text/plain": [
       "<Figure size 432x288 with 10 Axes>"
      ]
     },
     "metadata": {
      "needs_background": "light"
     },
     "output_type": "display_data"
    }
   ],
   "source": [
    "#Printing train images\n",
    "import matplotlib.pyplot as plt\n",
    "for i in range(1, 11):\n",
    "    plt.subplot(1,10, i)\n",
    "    plt.imshow(X_train[10*i], cmap=plt.get_cmap('gray'))\n",
    "\n",
    "plt.show()"
   ]
  },
  {
   "cell_type": "code",
   "execution_count": 10,
   "id": "61fa9edb",
   "metadata": {},
   "outputs": [],
   "source": [
    "X_train = X_train.reshape(-1,784)\n",
    "X_test=X_test.reshape(-1,784)"
   ]
  },
  {
   "cell_type": "code",
   "execution_count": 11,
   "id": "90a987e7",
   "metadata": {},
   "outputs": [
    {
     "data": {
      "text/plain": [
       "(60000, 784)"
      ]
     },
     "execution_count": 11,
     "metadata": {},
     "output_type": "execute_result"
    }
   ],
   "source": [
    "X_train.shape"
   ]
  },
  {
   "cell_type": "code",
   "execution_count": 12,
   "id": "4c8ab1d2",
   "metadata": {},
   "outputs": [
    {
     "data": {
      "text/plain": [
       "(10000, 784)"
      ]
     },
     "execution_count": 12,
     "metadata": {},
     "output_type": "execute_result"
    }
   ],
   "source": [
    "X_test.shape"
   ]
  },
  {
   "cell_type": "code",
   "execution_count": 13,
   "id": "18392675",
   "metadata": {},
   "outputs": [],
   "source": [
    "X_train = X_train / 255.0\n",
    "X_test = X_test / 255.0"
   ]
  },
  {
   "cell_type": "markdown",
   "id": "92281c85",
   "metadata": {},
   "source": [
    "### Exploration"
   ]
  },
  {
   "cell_type": "markdown",
   "id": "e75363cd",
   "metadata": {},
   "source": [
    "#### 1. Number of Nodes"
   ]
  },
  {
   "cell_type": "code",
   "execution_count": 14,
   "id": "6ae24591",
   "metadata": {},
   "outputs": [],
   "source": [
    "from tensorflow.keras import layers\n",
    "import time\n",
    "def create_and_train_model(nodes, epochs):\n",
    "    model = tf.keras.Sequential([\n",
    "        layers.Dense(nodes, activation='relu', input_shape=(784,)),\n",
    "        layers.Dense(10, activation='softmax')\n",
    "    ])\n",
    "    \n",
    "    model.compile(optimizer='adam',loss='sparse_categorical_crossentropy',metrics=['accuracy'])\n",
    "    \n",
    "    start_time = time.time()\n",
    "    model.fit(X_train, y_train, epochs=epochs, verbose=0)\n",
    "    end_time = time.time()\n",
    "    \n",
    "    train_accuracy = model.evaluate(X_train, y_train, verbose=0)[1]\n",
    "    test_accuracy = model.evaluate(X_test, y_test, verbose=0)[1]\n",
    "    num_params = model.count_params()\n",
    "    training_time = end_time - start_time\n",
    "    \n",
    "    return train_accuracy, test_accuracy, num_params, training_time\n"
   ]
  },
  {
   "cell_type": "code",
   "execution_count": 15,
   "id": "4b75b25f",
   "metadata": {},
   "outputs": [
    {
     "name": "stdout",
     "output_type": "stream",
     "text": [
      "Number of nodes in hidden layer: 4\n",
      "Training Accuracy: 0.8771\n",
      "Testing Accuracy: 0.8728\n",
      "Number of Parameters: 3190\n",
      "Training Time: 59.99 seconds\n",
      "\n",
      "Number of nodes in hidden layer: 32\n",
      "Training Accuracy: 0.9821\n",
      "Testing Accuracy: 0.9675\n",
      "Number of Parameters: 25450\n",
      "Training Time: 68.49 seconds\n",
      "\n",
      "Number of nodes in hidden layer: 18\n",
      "Training Accuracy: 0.9703\n",
      "Testing Accuracy: 0.9600\n",
      "Number of Parameters: 14320\n",
      "Training Time: 68.26 seconds\n",
      "\n",
      "Number of nodes in hidden layer: 512\n",
      "Training Accuracy: 0.9979\n",
      "Testing Accuracy: 0.9813\n",
      "Number of Parameters: 407050\n",
      "Training Time: 224.20 seconds\n",
      "\n",
      "Number of nodes in hidden layer: 2056\n",
      "Training Accuracy: 0.9975\n",
      "Testing Accuracy: 0.9798\n",
      "Number of Parameters: 1634530\n",
      "Training Time: 731.92 seconds\n",
      "\n"
     ]
    }
   ],
   "source": [
    "# List of hidden layer nodes\n",
    "hidden_nodes_list = [4, 32, 18, 512, 2056]\n",
    "\n",
    "for nodes in hidden_nodes_list:\n",
    "    print(f\"Number of nodes in hidden layer: {nodes}\")\n",
    "    train_acc, test_acc, num_params, training_time = create_and_train_model(nodes, epochs=10)\n",
    "    print(f\"Training Accuracy: {train_acc:.4f}\")\n",
    "    print(f\"Testing Accuracy: {test_acc:.4f}\")\n",
    "    print(f\"Number of Parameters: {num_params}\")\n",
    "    print(f\"Training Time: {training_time:.2f} seconds\\n\")"
   ]
  },
  {
   "cell_type": "markdown",
   "id": "64d90dc3",
   "metadata": {},
   "source": [
    "#### 2. Number of Layers"
   ]
  },
  {
   "cell_type": "code",
   "execution_count": 16,
   "id": "f6b56cd6",
   "metadata": {},
   "outputs": [],
   "source": [
    "def create_and_train_model(num_layers, nodes, epochs):\n",
    "    model = tf.keras.Sequential()\n",
    "    model.add(layers.InputLayer(input_shape=(784,)))\n",
    "    for _ in range(num_layers):\n",
    "        model.add(layers.Dense(nodes, activation='relu'))\n",
    "    \n",
    "    model.add(layers.Dense(10, activation='softmax'))\n",
    "    \n",
    "    model.compile(optimizer='adam',\n",
    "                  loss='sparse_categorical_crossentropy',\n",
    "                  metrics=['accuracy'])\n",
    "    \n",
    "    start_time = time.time()\n",
    "    model.fit(X_train, y_train, epochs=epochs, verbose=0)\n",
    "    end_time = time.time()\n",
    "    train_accuracy = model.evaluate(X_train, y_train, verbose=0)[1]\n",
    "    test_accuracy = model.evaluate(X_test, y_test, verbose=0)[1]\n",
    "    num_params = model.count_params()\n",
    "    training_time = end_time - start_time\n",
    "    \n",
    "    return train_accuracy, test_accuracy, num_params, training_time"
   ]
  },
  {
   "cell_type": "code",
   "execution_count": 17,
   "id": "76b6ece2",
   "metadata": {},
   "outputs": [
    {
     "name": "stdout",
     "output_type": "stream",
     "text": [
      "Number of hidden layers: 4\n",
      "Training Accuracy (10 epochs): 0.9853\n",
      "Testing Accuracy (10 epochs): 0.9666\n",
      "Number of Parameters: 28618\n",
      "Training Time (10 epochs): 58.42 seconds\n",
      "\n",
      "Number of hidden layers: 6\n",
      "Training Accuracy (10 epochs): 0.9831\n",
      "Testing Accuracy (10 epochs): 0.9654\n",
      "Number of Parameters: 30730\n",
      "Training Time (10 epochs): 86.95 seconds\n",
      "\n",
      "Number of hidden layers: 8\n",
      "Training Accuracy (10 epochs): 0.9806\n",
      "Testing Accuracy (10 epochs): 0.9664\n",
      "Number of Parameters: 32842\n",
      "Training Time (10 epochs): 63.71 seconds\n",
      "\n",
      "Number of hidden layers: 16\n",
      "Training Accuracy (10 epochs): 0.9692\n",
      "Testing Accuracy (10 epochs): 0.9593\n",
      "Number of Parameters: 41290\n",
      "Training Time (10 epochs): 85.66 seconds\n",
      "\n"
     ]
    }
   ],
   "source": [
    "# List of hidden layer nodes to try\n",
    "hidden_layers_list = [4, 6, 8, 16]\n",
    "\n",
    "for num_layers in hidden_layers_list:\n",
    "    print(f\"Number of hidden layers: {num_layers}\")\n",
    "    train_acc, test_acc, num_params, training_time = create_and_train_model(num_layers, 32, epochs=10)\n",
    "    print(f\"Training Accuracy (10 epochs): {train_acc:.4f}\")\n",
    "    print(f\"Testing Accuracy (10 epochs): {test_acc:.4f}\")\n",
    "    print(f\"Number of Parameters: {num_params}\")\n",
    "    print(f\"Training Time (10 epochs): {training_time:.2f} seconds\\n\")\n"
   ]
  },
  {
   "cell_type": "code",
   "execution_count": 18,
   "id": "34e5450e",
   "metadata": {},
   "outputs": [
    {
     "name": "stdout",
     "output_type": "stream",
     "text": [
      "Number of hidden layers: 4\n",
      "Training Accuracy (30 epochs): 0.9940\n",
      "Testing Accuracy (30 epochs): 0.9711\n",
      "Number of Parameters: 28618\n",
      "Training Time (30 epochs): 143.89 seconds\n",
      "\n",
      "Number of hidden layers: 6\n",
      "Training Accuracy (30 epochs): 0.9889\n",
      "Testing Accuracy (30 epochs): 0.9640\n",
      "Number of Parameters: 30730\n",
      "Training Time (30 epochs): 139.35 seconds\n",
      "\n",
      "Number of hidden layers: 8\n",
      "Training Accuracy (30 epochs): 0.9917\n",
      "Testing Accuracy (30 epochs): 0.9702\n",
      "Number of Parameters: 32842\n",
      "Training Time (30 epochs): 170.97 seconds\n",
      "\n",
      "Number of hidden layers: 16\n",
      "Training Accuracy (30 epochs): 0.9871\n",
      "Testing Accuracy (30 epochs): 0.9695\n",
      "Number of Parameters: 41290\n",
      "Training Time (30 epochs): 179.32 seconds\n",
      "\n"
     ]
    }
   ],
   "source": [
    "for num_layers in hidden_layers_list:\n",
    "    print(f\"Number of hidden layers: {num_layers}\")\n",
    "    train_acc, test_acc, num_params, training_time = create_and_train_model(num_layers, 32, epochs=30)\n",
    "    print(f\"Training Accuracy (30 epochs): {train_acc:.4f}\")\n",
    "    print(f\"Testing Accuracy (30 epochs): {test_acc:.4f}\")\n",
    "    print(f\"Number of Parameters: {num_params}\")\n",
    "    print(f\"Training Time (30 epochs): {training_time:.2f} seconds\\n\")"
   ]
  },
  {
   "cell_type": "markdown",
   "id": "01e8d631",
   "metadata": {},
   "source": [
    "#### 3. Activation Function"
   ]
  },
  {
   "cell_type": "code",
   "execution_count": 19,
   "id": "10244bd8",
   "metadata": {},
   "outputs": [],
   "source": [
    "def create_and_train_model(activation_func, epochs):\n",
    "    model = tf.keras.Sequential()\n",
    "    model.add(layers.InputLayer(input_shape=(784,)))\n",
    "    \n",
    "    for _ in range(3):\n",
    "        model.add(layers.Dense(32, activation=activation_func))\n",
    "    \n",
    "    model.add(layers.Dense(10, activation='softmax'))\n",
    "    \n",
    "    model.compile(optimizer='adam',\n",
    "                  loss='sparse_categorical_crossentropy',\n",
    "                  metrics=['accuracy'])\n",
    "    model.fit(X_train, y_train, epochs=epochs, verbose=0)\n",
    " \n",
    "    train_accuracy = model.evaluate(X_train, y_train, verbose=0)[1]\n",
    "    test_accuracy = model.evaluate(X_test, y_test, verbose=0)[1]\n",
    "    \n",
    "    return train_accuracy, test_accuracy"
   ]
  },
  {
   "cell_type": "code",
   "execution_count": 20,
   "id": "a4a4e802",
   "metadata": {},
   "outputs": [
    {
     "name": "stdout",
     "output_type": "stream",
     "text": [
      "Activation Function: sigmoid\n",
      "Training Accuracy (10 epochs): 0.9786\n",
      "Testing Accuracy (10 epochs): 0.9622\n",
      "\n",
      "Activation Function: tanh\n",
      "Training Accuracy (10 epochs): 0.9862\n",
      "Testing Accuracy (10 epochs): 0.9669\n",
      "\n",
      "Activation Function: relu\n",
      "Training Accuracy (10 epochs): 0.9845\n",
      "Testing Accuracy (10 epochs): 0.9677\n",
      "\n"
     ]
    }
   ],
   "source": [
    "# List of activation functions \n",
    "activation_functions = ['sigmoid', 'tanh', 'relu']\n",
    "for activation_func in activation_functions: #10 epochs\n",
    "    print(f\"Activation Function: {activation_func}\")\n",
    "    train_acc, test_acc = create_and_train_model(activation_func, epochs=10)\n",
    "    print(f\"Training Accuracy (10 epochs): {train_acc:.4f}\")\n",
    "    print(f\"Testing Accuracy (10 epochs): {test_acc:.4f}\\n\")"
   ]
  },
  {
   "cell_type": "code",
   "execution_count": 21,
   "id": "7db3e607",
   "metadata": {},
   "outputs": [
    {
     "name": "stdout",
     "output_type": "stream",
     "text": [
      "Activation Function: sigmoid\n",
      "Training Accuracy (30 epochs): 0.9931\n",
      "Testing Accuracy (30 epochs): 0.9569\n",
      "\n",
      "Activation Function: tanh\n",
      "Training Accuracy (30 epochs): 0.9942\n",
      "Testing Accuracy (30 epochs): 0.9626\n",
      "\n",
      "Activation Function: relu\n",
      "Training Accuracy (30 epochs): 0.9946\n",
      "Testing Accuracy (30 epochs): 0.9698\n",
      "\n"
     ]
    }
   ],
   "source": [
    "for activation_func in activation_functions:\n",
    "    print(f\"Activation Function: {activation_func}\") #30 epochs\n",
    "    train_acc, test_acc = create_and_train_model(activation_func, epochs=30)\n",
    "    print(f\"Training Accuracy (30 epochs): {train_acc:.4f}\")\n",
    "    print(f\"Testing Accuracy (30 epochs): {test_acc:.4f}\\n\")"
   ]
  },
  {
   "cell_type": "markdown",
   "id": "3f973e49",
   "metadata": {},
   "source": [
    "#### 4. Activation Function Combinations"
   ]
  },
  {
   "cell_type": "code",
   "execution_count": 22,
   "id": "501095c7",
   "metadata": {},
   "outputs": [],
   "source": [
    "def create_and_train_model(activation_layer1, activation_layer2, activation_layer3, epochs):\n",
    "    model = tf.keras.Sequential()\n",
    "    model.add(layers.InputLayer(input_shape=(784,)))\n",
    "    model.add(layers.Dense(32, activation=activation_layer1))\n",
    "    model.add(layers.Dense(32, activation=activation_layer2))\n",
    "    model.add(layers.Dense(32, activation=activation_layer3))\n",
    "    model.add(layers.Dense(10, activation='softmax'))\n",
    "    \n",
    "    model.compile(optimizer='adam',\n",
    "                  loss='sparse_categorical_crossentropy',\n",
    "                  metrics=['accuracy'])\n",
    "    \n",
    "    model.fit(X_train, y_train, epochs=epochs, verbose=0)\n",
    "    \n",
    "    train_accuracy = model.evaluate(X_train, y_train, verbose=0)[1]\n",
    "    test_accuracy = model.evaluate(X_test, y_test, verbose=0)[1]\n",
    "    \n",
    "    return train_accuracy, test_accuracy"
   ]
  },
  {
   "cell_type": "code",
   "execution_count": 23,
   "id": "28995d60",
   "metadata": {},
   "outputs": [
    {
     "name": "stdout",
     "output_type": "stream",
     "text": [
      "Layer 1: sigmoid, Layer 2: relu, Layer 3: tanh\n",
      "Training Accuracy (10 epochs): 0.9863\n",
      "Testing Accuracy (10 epochs): 0.9684\n",
      "\n",
      "Layer 1: relu, Layer 2: tanh, Layer 3: sigmoid\n",
      "Training Accuracy (10 epochs): 0.9869\n",
      "Testing Accuracy (10 epochs): 0.9700\n",
      "\n",
      "Layer 1: tanh, Layer 2: sigmoid, Layer 3: relu\n",
      "Training Accuracy (10 epochs): 0.9844\n",
      "Testing Accuracy (10 epochs): 0.9631\n",
      "\n"
     ]
    }
   ],
   "source": [
    "# List of activation function \n",
    "activation_function_combinations = [\n",
    "    ('sigmoid', 'relu', 'tanh'),\n",
    "    ('relu', 'tanh', 'sigmoid'),\n",
    "    ('tanh', 'sigmoid','relu')\n",
    "]\n",
    "\n",
    "results = {}\n",
    "\n",
    "# Training and testing accuracies for each combination\n",
    "for activation_func in activation_function_combinations:\n",
    "    print(f\"Layer 1: {activation_func[0]}, Layer 2: {activation_func[1]}, Layer 3: {activation_func[2]}\")\n",
    "    train_acc, test_acc = create_and_train_model(activation_func[0], activation_func[1], activation_func[2], epochs=10)\n",
    "    print(f\"Training Accuracy (10 epochs): {train_acc:.4f}\")\n",
    "    print(f\"Testing Accuracy (10 epochs): {test_acc:.4f}\\n\")\n",
    "    \n",
    "    # Store the results in a dictionary\n",
    "    results[activation_func] = (train_acc, test_acc)"
   ]
  },
  {
   "cell_type": "code",
   "execution_count": 24,
   "id": "1dda3ff2",
   "metadata": {},
   "outputs": [
    {
     "name": "stdout",
     "output_type": "stream",
     "text": [
      "Best Combination: ('relu', 'tanh', 'sigmoid')\n"
     ]
    }
   ],
   "source": [
    "# Find the best combination based on test accuracy\n",
    "best_combination = max(results, key=lambda x: results[x][1])\n",
    "print(\"Best Combination:\", best_combination)"
   ]
  },
  {
   "cell_type": "code",
   "execution_count": 27,
   "id": "28370448",
   "metadata": {},
   "outputs": [],
   "source": [
    "def create_and_train_model(hidden_layers, nodes_per_layer, activation_func, epochs):\n",
    "    model = tf.keras.Sequential()\n",
    "    model.add(layers.InputLayer(input_shape=(784,)))\n",
    "    \n",
    "    for _ in range(hidden_layers):\n",
    "        model.add(layers.Dense(nodes_per_layer, activation=activation_func))\n",
    "    \n",
    "    model.add(layers.Dense(10, activation='softmax'))\n",
    "    \n",
    "    model.compile(optimizer='adam',\n",
    "                  loss='sparse_categorical_crossentropy',\n",
    "                  metrics=['accuracy'])\n",
    "    \n",
    "    start_time = time.time()\n",
    "    model.fit(X_train, y_train, epochs=epochs, verbose=0)\n",
    "    end_time = time.time()\n",
    "    \n",
    "    train_accuracy = model.evaluate(X_train, y_train, verbose=0)[1]\n",
    "    test_accuracy = model.evaluate(X_test, y_test, verbose=0)[1]\n",
    "    \n",
    "    num_params = model.count_params()\n",
    "    training_time = end_time - start_time\n",
    "    \n",
    "    return train_accuracy, test_accuracy, num_params, training_time\n",
    "\n",
    "# List of models \n",
    "models = [\n",
    "    {'hidden_layers': 3, 'nodes_per_layer': 32, 'activation_func': 'relu'},\n",
    "    {'hidden_layers': 3, 'nodes_per_layer': 64, 'activation_func': 'relu'},\n",
    "    {'hidden_layers': 4, 'nodes_per_layer': 32, 'activation_func': 'relu'},\n",
    "    {'hidden_layers': 4, 'nodes_per_layer': 64, 'activation_func': 'relu'},\n",
    "    {'hidden_layers': 5, 'nodes_per_layer': 32, 'activation_func': 'relu'},\n",
    "    {'hidden_layers': 5, 'nodes_per_layer': 64, 'activation_func': 'relu'}\n",
    "]\n",
    "\n",
    "# Training and testing accuracies, number of parameters, and training time \n",
    "results = []\n",
    "\n",
    "for model_params in models:\n",
    "    hidden_layers = model_params['hidden_layers']\n",
    "    nodes_per_layer = model_params['nodes_per_layer']\n",
    "    activation_func = model_params['activation_func']\n",
    "    \n",
    "    train_acc, test_acc, num_params, training_time = create_and_train_model(hidden_layers, nodes_per_layer, activation_func, epochs=10)\n",
    "    \n",
    "    result = {\n",
    "        'hidden_layers': hidden_layers,\n",
    "        'nodes_per_layer': nodes_per_layer,\n",
    "        'activation_func': activation_func,\n",
    "        'train_accuracy': train_acc,\n",
    "        'test_accuracy': test_acc,\n",
    "        'num_params': num_params,\n",
    "        'training_time': training_time\n",
    "    }\n",
    "    \n",
    "    results.append(result)"
   ]
  },
  {
   "cell_type": "code",
   "execution_count": 28,
   "id": "e283907b",
   "metadata": {},
   "outputs": [
    {
     "name": "stdout",
     "output_type": "stream",
     "text": [
      "Model: 3 hidden layers with 32 nodes each and relu activation\n",
      "Training Accuracy (10 epochs): 0.9892\n",
      "Testing Accuracy (10 epochs): 0.9705\n",
      "Number of Parameters: 27562\n",
      "Training Time (10 epochs): 56.80 seconds\n",
      "\n",
      "Model: 3 hidden layers with 64 nodes each and relu activation\n",
      "Training Accuracy (10 epochs): 0.9948\n",
      "Testing Accuracy (10 epochs): 0.9770\n",
      "Number of Parameters: 59210\n",
      "Training Time (10 epochs): 79.26 seconds\n",
      "\n",
      "Model: 4 hidden layers with 32 nodes each and relu activation\n",
      "Training Accuracy (10 epochs): 0.9841\n",
      "Testing Accuracy (10 epochs): 0.9667\n",
      "Number of Parameters: 28618\n",
      "Training Time (10 epochs): 68.43 seconds\n",
      "\n",
      "Model: 4 hidden layers with 64 nodes each and relu activation\n",
      "Training Accuracy (10 epochs): 0.9924\n",
      "Testing Accuracy (10 epochs): 0.9763\n",
      "Number of Parameters: 63370\n",
      "Training Time (10 epochs): 65.11 seconds\n",
      "\n",
      "Model: 5 hidden layers with 32 nodes each and relu activation\n",
      "Training Accuracy (10 epochs): 0.9821\n",
      "Testing Accuracy (10 epochs): 0.9673\n",
      "Number of Parameters: 29674\n",
      "Training Time (10 epochs): 50.53 seconds\n",
      "\n",
      "Model: 5 hidden layers with 64 nodes each and relu activation\n",
      "Training Accuracy (10 epochs): 0.9904\n",
      "Testing Accuracy (10 epochs): 0.9745\n",
      "Number of Parameters: 67530\n",
      "Training Time (10 epochs): 117.23 seconds\n",
      "\n",
      "Best Model:\n",
      "Model: 3 hidden layers with 64 nodes each and relu activation\n",
      "Testing Accuracy (10 epochs): 0.9770\n"
     ]
    }
   ],
   "source": [
    "# Find the best model based on test accuracy\n",
    "best_model = max(results, key=lambda x: x['test_accuracy'])\n",
    "\n",
    "# Print the results for each model\n",
    "for result in results:\n",
    "    print(f\"Model: {result['hidden_layers']} hidden layers with {result['nodes_per_layer']} nodes each and {result['activation_func']} activation\")\n",
    "    print(f\"Training Accuracy (10 epochs): {result['train_accuracy']:.4f}\")\n",
    "    print(f\"Testing Accuracy (10 epochs): {result['test_accuracy']:.4f}\")\n",
    "    print(f\"Number of Parameters: {result['num_params']}\")\n",
    "    print(f\"Training Time (10 epochs): {result['training_time']:.2f} seconds\\n\")\n",
    "\n",
    "print(\"Best Model:\")\n",
    "print(f\"Model: {best_model['hidden_layers']} hidden layers with {best_model['nodes_per_layer']} nodes each and {best_model['activation_func']} activation\")\n",
    "print(f\"Testing Accuracy (10 epochs): {best_model['test_accuracy']:.4f}\")"
   ]
  },
  {
   "cell_type": "markdown",
   "id": "7013f6a5",
   "metadata": {},
   "source": [
    "#### 6. Optimizer"
   ]
  },
  {
   "cell_type": "code",
   "execution_count": 29,
   "id": "44a76559",
   "metadata": {},
   "outputs": [],
   "source": [
    "def create_model(optimizer):\n",
    "    model = tf.keras.Sequential()\n",
    "    model.add(layers.InputLayer(input_shape=(784,)))\n",
    "    model.add(layers.Dense(32, activation='relu'))\n",
    "    model.add(layers.Dense(32, activation='relu'))\n",
    "    model.add(layers.Dense(32, activation='relu'))\n",
    "    model.add(layers.Dense(10, activation='softmax'))\n",
    "    \n",
    "    model.compile(optimizer=optimizer,\n",
    "                  loss='sparse_categorical_crossentropy',\n",
    "                  metrics=['accuracy'])\n",
    "    return model"
   ]
  },
  {
   "cell_type": "code",
   "execution_count": 31,
   "id": "0456303c",
   "metadata": {},
   "outputs": [
    {
     "name": "stdout",
     "output_type": "stream",
     "text": [
      "Optimizer: SGD\n",
      "Training Accuracy: 0.9639\n",
      "Testing Accuracy: 0.9561\n",
      "\n",
      "Optimizer: RMSPROP\n",
      "Training Accuracy: 0.9797\n",
      "Testing Accuracy: 0.9664\n",
      "\n",
      "Optimizer: ADAM\n",
      "Training Accuracy: 0.9828\n",
      "Testing Accuracy: 0.9670\n",
      "\n"
     ]
    }
   ],
   "source": [
    "# List of optimizers \n",
    "optimizers = ['sgd', 'rmsprop', 'adam']\n",
    "\n",
    "for optimizer in optimizers:\n",
    "    print(f\"Optimizer: {optimizer.upper()}\")\n",
    "    model = create_model(optimizer)\n",
    "    model.fit(X_train, y_train, epochs=10, verbose=0)\n",
    "    \n",
    "    train_acc = model.evaluate(X_train, y_train, verbose=0)[1]\n",
    "    test_acc = model.evaluate(X_test, y_test, verbose=0)[1]\n",
    "    \n",
    "    print(f\"Training Accuracy: {train_acc:.4f}\")\n",
    "    print(f\"Testing Accuracy: {test_acc:.4f}\\n\")"
   ]
  },
  {
   "cell_type": "markdown",
   "id": "b22b2d0b",
   "metadata": {},
   "source": [
    "#### 7. L1,L2 Regularization"
   ]
  },
  {
   "cell_type": "code",
   "execution_count": 36,
   "id": "5f74b168",
   "metadata": {},
   "outputs": [],
   "source": [
    "def create_and_train_model(regularizer, lambda_value , epochs):\n",
    "    model = tf.keras.Sequential()\n",
    "    model.add(layers.InputLayer(input_shape=(784,)))\n",
    "    \n",
    "    for _ in range(3):\n",
    "        model.add(layers.Dense(128, activation='relu', kernel_regularizer=regularizer(lambda_value)))\n",
    "    \n",
    "    model.add(layers.Dense(10, activation='softmax'))\n",
    "    \n",
    "    model.compile(optimizer='adam',\n",
    "                  loss='sparse_categorical_crossentropy',\n",
    "                  metrics=['accuracy'])\n",
    "    \n",
    "    model.fit(X_train, y_train, epochs=epochs, verbose=0)\n",
    "    \n",
    "    train_accuracy = model.evaluate(X_train, y_train, verbose=0)[1]\n",
    "    test_accuracy = model.evaluate(X_test, y_test, verbose=0)[1]\n",
    "    \n",
    "    return train_accuracy, test_accuracy\n",
    "\n",
    "# Regularization functions with different lambda values\n",
    "l1_regularization = tf.keras.regularizers.l1\n",
    "l2_regularization = tf.keras.regularizers.l2"
   ]
  },
  {
   "cell_type": "code",
   "execution_count": 37,
   "id": "f7907bc6",
   "metadata": {},
   "outputs": [
    {
     "name": "stdout",
     "output_type": "stream",
     "text": [
      "L1 Regularization:\n",
      "Lambda Value: 0.001\n",
      "Training Accuracy: 0.9506\n",
      "Testing Accuracy: 0.9498\n",
      "\n",
      "Lambda Value: 0.01\n",
      "Training Accuracy: 0.1124\n",
      "Testing Accuracy: 0.1135\n",
      "\n",
      "Lambda Value: 0.1\n",
      "Training Accuracy: 0.1124\n",
      "Testing Accuracy: 0.1135\n",
      "\n",
      "L2 Regularization:\n",
      "Lambda Value: 0.001\n",
      "Training Accuracy: 0.9761\n",
      "Testing Accuracy: 0.9717\n",
      "\n",
      "Lambda Value: 0.01\n",
      "Training Accuracy: 0.9503\n",
      "Testing Accuracy: 0.9477\n",
      "\n",
      "Lambda Value: 0.1\n",
      "Training Accuracy: 0.8554\n",
      "Testing Accuracy: 0.8587\n",
      "\n"
     ]
    }
   ],
   "source": [
    "# List of lambda values\n",
    "l1_lambda_values = [0.001, 0.01, 0.1]\n",
    "\n",
    "# List of lambda values \n",
    "l2_lambda_values = [0.001, 0.01, 0.1]\n",
    "\n",
    "# Training and testing accuracies for L1 regularization\n",
    "print(\"L1 Regularization:\")\n",
    "for lambda_value in l1_lambda_values:\n",
    "    print(f\"Lambda Value: {lambda_value}\")\n",
    "    train_acc, test_acc = create_and_train_model(l1_regularization, lambda_value, epochs=10)\n",
    "    print(f\"Training Accuracy: {train_acc:.4f}\")\n",
    "    print(f\"Testing Accuracy: {test_acc:.4f}\\n\")\n",
    "\n",
    "# Training and testing accuracies for L2 regularization\n",
    "print(\"L2 Regularization:\")\n",
    "for lambda_value in l2_lambda_values:\n",
    "    print(f\"Lambda Value: {lambda_value}\")\n",
    "    train_acc, test_acc = create_and_train_model(l2_regularization, lambda_value, epochs=10)\n",
    "    print(f\"Training Accuracy: {train_acc:.4f}\")\n",
    "    print(f\"Testing Accuracy: {test_acc:.4f}\\n\")"
   ]
  },
  {
   "cell_type": "markdown",
   "id": "d4e2cd39",
   "metadata": {},
   "source": [
    "#### 8. Dropout Regularization"
   ]
  },
  {
   "cell_type": "code",
   "execution_count": 38,
   "id": "6e812312",
   "metadata": {},
   "outputs": [],
   "source": [
    "def create_and_train_model(dropout_rate, epochs):\n",
    "    model = tf.keras.Sequential()\n",
    "    model.add(layers.InputLayer(input_shape=(784,)))\n",
    "    \n",
    "    for _ in range(3):\n",
    "        model.add(layers.Dense(128, activation='relu'))\n",
    "        model.add(layers.Dropout(dropout_rate))\n",
    "    \n",
    "    model.add(layers.Dense(10, activation='softmax'))\n",
    "    \n",
    "    model.compile(optimizer='adam',\n",
    "                  loss='sparse_categorical_crossentropy',\n",
    "                  metrics=['accuracy'])\n",
    "    \n",
    "    model.fit(X_train, y_train, epochs=epochs, verbose=0)\n",
    "    \n",
    "    train_accuracy = model.evaluate(X_train, y_train, verbose=0)[1]\n",
    "    test_accuracy = model.evaluate(X_test, y_test, verbose=0)[1]\n",
    "    \n",
    "    return train_accuracy, test_accuracy"
   ]
  },
  {
   "cell_type": "code",
   "execution_count": null,
   "id": "54dc56a6",
   "metadata": {},
   "outputs": [
    {
     "name": "stdout",
     "output_type": "stream",
     "text": [
      "Dropout Layers:\n",
      "Dropout Rate: 0.1\n"
     ]
    }
   ],
   "source": [
    "# List of dropout rates\n",
    "dropout_rates = [0.1, 0.3, 0.5]\n",
    "\n",
    "# Training and testing accuracies for different dropout rates\n",
    "print(\"Dropout Layers:\")\n",
    "for dropout_rate in dropout_rates:\n",
    "    print(f\"Dropout Rate: {dropout_rate}\")\n",
    "    train_acc, test_acc = create_and_train_model(dropout_rate, epochs=10)\n",
    "    print(f\"Training Accuracy: {train_acc:.4f}\")\n",
    "    print(f\"Testing Accuracy: {test_acc:.4f}\\n\")"
   ]
  },
  {
   "cell_type": "markdown",
   "id": "c1d2fba3",
   "metadata": {},
   "source": [
    "#### 9. Input Size"
   ]
  },
  {
   "cell_type": "code",
   "execution_count": null,
   "id": "5e8b7abf",
   "metadata": {},
   "outputs": [],
   "source": [
    "X_train_56 = tf.image.resize(np.expand_dims(X_train, -1), [56, 56]).numpy().reshape(-1, 56*56) / 255.0\n",
    "X_train_112 = tf.image.resize(np.expand_dims(X_train, -1), [112, 112]).numpy().reshape(-1, 112*112) / 255.0\n",
    "X_train_224 = tf.image.resize(np.expand_dims(X_train, -1), [224, 224]).numpy().reshape(-1, 224*224) / 255.0\n",
    "\n",
    "X_test_56 = tf.image.resize(np.expand_dims(X_test, -1), [56, 56]).numpy().reshape(-1, 56*56) / 255.0\n",
    "X_test_112 = tf.image.resize(np.expand_dims(X_test, -1), [112, 112]).numpy().reshape(-1, 112*112) / 255.0\n",
    "X_test_224 = tf.image.resize(np.expand_dims(X_test, -1), [224, 224]).numpy().reshape(-1, 224*224) / 255.0\n",
    "\n",
    "# Function to create and train a model\n",
    "def create_and_train_model(input_shape, epochs):\n",
    "    model = tf.keras.Sequential()\n",
    "    model.add(layers.InputLayer(input_shape=input_shape))\n",
    "    model.add(layers.Dense(128, activation='relu'))\n",
    "    model.add(layers.Dense(128, activation='relu'))\n",
    "    model.add(layers.Dense(128, activation='relu'))\n",
    "    model.add(layers.Dense(10, activation='softmax'))\n",
    "    \n",
    "    model.compile(optimizer='adam',\n",
    "                  loss='sparse_categorical_crossentropy',\n",
    "                  metrics=['accuracy'])\n",
    "    \n",
    "    model.fit(X_train, y_train, epochs=epochs, verbose=0)\n",
    "    \n",
    "    train_accuracy = model.evaluate(X_train, y_train, verbose=0)[1]\n",
    "    test_accuracy = model.evaluate(X_test, y_test, verbose=0)[1]\n",
    "    \n",
    "    return model.count_params(), train_accuracy, test_accuracy\n",
    "\n",
    "# List of input shapes\n",
    "input_shapes = [(784,), (56*56,), (112*112,), (224*224,)]\n",
    "\n",
    "# Training and testing accuracies, and model size for each input shape\n",
    "print(\"Model Size and Accuracies:\")\n",
    "for input_shape in input_shapes:\n",
    "    print(f\"Input Shape: {input_shape}\")\n",
    "    model_size, train_acc, test_acc = create_and_train_model(input_shape, epochs=10)\n",
    "    print(f\"Model Size: {model_size}\")\n",
    "    print(f\"Training Accuracy: {train_acc:.4f}\")\n",
    "    print(f\"Testing Accuracy: {test_acc:.4f}\\n\")"
   ]
  },
  {
   "cell_type": "markdown",
   "id": "5e3f62c9",
   "metadata": {},
   "source": [
    "#### 10. Dataset Size"
   ]
  },
  {
   "cell_type": "code",
   "execution_count": null,
   "id": "a692ee1e",
   "metadata": {},
   "outputs": [],
   "source": [
    "(X_train, y_train), (X_test, y_test) = data\n",
    "X1 = np.concatenate((X_train, X_test))\n",
    "y1 = np.concatenate((y_train, y_test))\n",
    "\n",
    "X_train1, X_test1, y_train1, y_test1 = train_test_split(X1, y1, train_size=0.7, random_state=42)\n",
    "model = Sequential([Dense(32, input_dim=28*28, activation='relu'), \n",
    "                      Dense(32, activation='relu'), \n",
    "                      Dense(32, activation='relu'), \n",
    "                      Dense(10, activation='softmax')]) \n",
    "model.compile(loss='mean_squared_error', optimizer='adam', metrics='accuracy')\n",
    "model.fit(X_train1, y_train1, epochs=10) \n",
    "acc=model.evaluate(X_test1, y_test1)\n",
    "print(\"Accuracy\",acc[1]*100)\n",
    "print(model.summary())"
   ]
  }
 ],
 "metadata": {
  "kernelspec": {
   "display_name": "Python 3 (ipykernel)",
   "language": "python",
   "name": "python3"
  },
  "language_info": {
   "codemirror_mode": {
    "name": "ipython",
    "version": 3
   },
   "file_extension": ".py",
   "mimetype": "text/x-python",
   "name": "python",
   "nbconvert_exporter": "python",
   "pygments_lexer": "ipython3",
   "version": "3.9.12"
  }
 },
 "nbformat": 4,
 "nbformat_minor": 5
}
